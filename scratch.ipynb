{
 "cells": [
  {
   "cell_type": "code",
   "execution_count": 112,
   "id": "86054d13-8830-44d2-a6b7-8ccfb421e7b2",
   "metadata": {},
   "outputs": [],
   "source": [
    "import wrangle_zillow\n",
    "\n",
    "import pandas as pd\n",
    "import numpy as np\n",
    "import matplotlib.pyplot as plt\n",
    "\n",
    "# modeling methods\n",
    "from sklearn.metrics import mean_squared_error\n",
    "from sklearn.linear_model import LinearRegression, LassoLars, TweedieRegressor\n",
    "from sklearn.preprocessing import PolynomialFeatures\n",
    "from sklearn.model_selection import train_test_split\n",
    "\n",
    "import warnings\n",
    "warnings.filterwarnings(\"ignore\")\n",
    "\n",
    "from sklearn.feature_selection import SelectKBest, f_regression, RFE\n",
    "from sklearn.preprocessing import StandardScaler, LabelEncoder"
   ]
  },
  {
   "cell_type": "code",
   "execution_count": 2,
   "id": "926c856f-ba6e-4f31-846a-7c87393e3519",
   "metadata": {},
   "outputs": [
    {
     "data": {
      "text/html": [
       "<div>\n",
       "<style scoped>\n",
       "    .dataframe tbody tr th:only-of-type {\n",
       "        vertical-align: middle;\n",
       "    }\n",
       "\n",
       "    .dataframe tbody tr th {\n",
       "        vertical-align: top;\n",
       "    }\n",
       "\n",
       "    .dataframe thead th {\n",
       "        text-align: right;\n",
       "    }\n",
       "</style>\n",
       "<table border=\"1\" class=\"dataframe\">\n",
       "  <thead>\n",
       "    <tr style=\"text-align: right;\">\n",
       "      <th></th>\n",
       "      <th>bedroomcnt</th>\n",
       "      <th>bathroomcnt</th>\n",
       "      <th>calculatedfinishedsquarefeet</th>\n",
       "      <th>taxvaluedollarcnt</th>\n",
       "      <th>yearbuilt</th>\n",
       "      <th>taxamount</th>\n",
       "      <th>fips</th>\n",
       "      <th>transactiondate</th>\n",
       "    </tr>\n",
       "  </thead>\n",
       "  <tbody>\n",
       "    <tr>\n",
       "      <th>0</th>\n",
       "      <td>4.0</td>\n",
       "      <td>3.5</td>\n",
       "      <td>3100.0</td>\n",
       "      <td>1023282.0</td>\n",
       "      <td>1998.0</td>\n",
       "      <td>11013.72</td>\n",
       "      <td>6059.0</td>\n",
       "      <td>2017-01-01</td>\n",
       "    </tr>\n",
       "    <tr>\n",
       "      <th>1</th>\n",
       "      <td>2.0</td>\n",
       "      <td>1.0</td>\n",
       "      <td>1465.0</td>\n",
       "      <td>464000.0</td>\n",
       "      <td>1967.0</td>\n",
       "      <td>5672.48</td>\n",
       "      <td>6111.0</td>\n",
       "      <td>2017-01-01</td>\n",
       "    </tr>\n",
       "    <tr>\n",
       "      <th>2</th>\n",
       "      <td>3.0</td>\n",
       "      <td>2.0</td>\n",
       "      <td>1243.0</td>\n",
       "      <td>564778.0</td>\n",
       "      <td>1962.0</td>\n",
       "      <td>6488.30</td>\n",
       "      <td>6059.0</td>\n",
       "      <td>2017-01-01</td>\n",
       "    </tr>\n",
       "    <tr>\n",
       "      <th>3</th>\n",
       "      <td>4.0</td>\n",
       "      <td>3.0</td>\n",
       "      <td>2376.0</td>\n",
       "      <td>145143.0</td>\n",
       "      <td>1970.0</td>\n",
       "      <td>1777.51</td>\n",
       "      <td>6037.0</td>\n",
       "      <td>2017-01-01</td>\n",
       "    </tr>\n",
       "    <tr>\n",
       "      <th>4</th>\n",
       "      <td>3.0</td>\n",
       "      <td>3.0</td>\n",
       "      <td>1312.0</td>\n",
       "      <td>119407.0</td>\n",
       "      <td>1964.0</td>\n",
       "      <td>1533.89</td>\n",
       "      <td>6037.0</td>\n",
       "      <td>2017-01-01</td>\n",
       "    </tr>\n",
       "  </tbody>\n",
       "</table>\n",
       "</div>"
      ],
      "text/plain": [
       "   bedroomcnt  bathroomcnt  calculatedfinishedsquarefeet  taxvaluedollarcnt  \\\n",
       "0         4.0          3.5                        3100.0          1023282.0   \n",
       "1         2.0          1.0                        1465.0           464000.0   \n",
       "2         3.0          2.0                        1243.0           564778.0   \n",
       "3         4.0          3.0                        2376.0           145143.0   \n",
       "4         3.0          3.0                        1312.0           119407.0   \n",
       "\n",
       "   yearbuilt  taxamount    fips transactiondate  \n",
       "0     1998.0   11013.72  6059.0      2017-01-01  \n",
       "1     1967.0    5672.48  6111.0      2017-01-01  \n",
       "2     1962.0    6488.30  6059.0      2017-01-01  \n",
       "3     1970.0    1777.51  6037.0      2017-01-01  \n",
       "4     1964.0    1533.89  6037.0      2017-01-01  "
      ]
     },
     "execution_count": 2,
     "metadata": {},
     "output_type": "execute_result"
    }
   ],
   "source": [
    "df = wrangle_zillow.get_zillow_data()\n",
    "df.head()"
   ]
  },
  {
   "cell_type": "code",
   "execution_count": 3,
   "id": "503852e5-1700-4f6a-b02c-0374666642cf",
   "metadata": {},
   "outputs": [],
   "source": [
    "df = df.replace(r'^\\s*$', np.nan, regex=True)"
   ]
  },
  {
   "cell_type": "code",
   "execution_count": 4,
   "id": "c560a2c1-ff81-4b7f-9363-2bbd6a422882",
   "metadata": {},
   "outputs": [],
   "source": [
    "df['area'] = df.calculatedfinishedsquarefeet"
   ]
  },
  {
   "cell_type": "code",
   "execution_count": 5,
   "id": "c87dd99c-aa4f-4d89-8123-be17b1973ae9",
   "metadata": {},
   "outputs": [],
   "source": [
    "df = df.drop(columns='calculatedfinishedsquarefeet')"
   ]
  },
  {
   "cell_type": "code",
   "execution_count": 6,
   "id": "5869072f-f16d-403a-a7af-f07a9b39eb0e",
   "metadata": {},
   "outputs": [],
   "source": [
    "df = df.dropna()"
   ]
  },
  {
   "cell_type": "code",
   "execution_count": 7,
   "id": "d8b03f8c-565c-42cf-a959-1df35b129191",
   "metadata": {},
   "outputs": [],
   "source": [
    "col_list = ['bedroomcnt', 'bathroomcnt', 'area', 'taxvaluedollarcnt', 'taxamount']"
   ]
  },
  {
   "cell_type": "code",
   "execution_count": 8,
   "id": "6a565f20-33f5-4753-8f96-4d272997e06b",
   "metadata": {},
   "outputs": [],
   "source": [
    "df = wrangle_zillow.remove_outliers(df, 1, col_list)"
   ]
  },
  {
   "cell_type": "code",
   "execution_count": 9,
   "id": "bf394a71-c267-4e14-820e-98c98480c87f",
   "metadata": {},
   "outputs": [
    {
     "data": {
      "text/plain": [
       "(45644, 8)"
      ]
     },
     "execution_count": 9,
     "metadata": {},
     "output_type": "execute_result"
    }
   ],
   "source": [
    "df.shape"
   ]
  },
  {
   "cell_type": "code",
   "execution_count": 10,
   "id": "91f22fd0-c468-402a-aaa2-d7ebc8db25ee",
   "metadata": {},
   "outputs": [],
   "source": [
    "df['bed'] = df.bedroomcnt\n",
    "df['bath'] = df.bathroomcnt\n",
    "df['taxvalue'] = df.taxvaluedollarcnt"
   ]
  },
  {
   "cell_type": "code",
   "execution_count": 11,
   "id": "d04e3640-eabe-4c01-a9ce-6a5fdaa1db12",
   "metadata": {},
   "outputs": [],
   "source": [
    "df = df.drop(columns=['bedroomcnt', 'bathroomcnt', 'taxvaluedollarcnt'])"
   ]
  },
  {
   "cell_type": "code",
   "execution_count": 12,
   "id": "6fc21edd-6b05-4867-9a27-e1535e069246",
   "metadata": {},
   "outputs": [
    {
     "data": {
      "text/html": [
       "<div>\n",
       "<style scoped>\n",
       "    .dataframe tbody tr th:only-of-type {\n",
       "        vertical-align: middle;\n",
       "    }\n",
       "\n",
       "    .dataframe tbody tr th {\n",
       "        vertical-align: top;\n",
       "    }\n",
       "\n",
       "    .dataframe thead th {\n",
       "        text-align: right;\n",
       "    }\n",
       "</style>\n",
       "<table border=\"1\" class=\"dataframe\">\n",
       "  <thead>\n",
       "    <tr style=\"text-align: right;\">\n",
       "      <th></th>\n",
       "      <th>yearbuilt</th>\n",
       "      <th>taxamount</th>\n",
       "      <th>fips</th>\n",
       "      <th>transactiondate</th>\n",
       "      <th>area</th>\n",
       "      <th>bed</th>\n",
       "      <th>bath</th>\n",
       "      <th>taxvalue</th>\n",
       "    </tr>\n",
       "  </thead>\n",
       "  <tbody>\n",
       "    <tr>\n",
       "      <th>2</th>\n",
       "      <td>1962.0</td>\n",
       "      <td>6488.30</td>\n",
       "      <td>6059.0</td>\n",
       "      <td>2017-01-01</td>\n",
       "      <td>1243.0</td>\n",
       "      <td>3.0</td>\n",
       "      <td>2.0</td>\n",
       "      <td>564778.0</td>\n",
       "    </tr>\n",
       "    <tr>\n",
       "      <th>3</th>\n",
       "      <td>1970.0</td>\n",
       "      <td>1777.51</td>\n",
       "      <td>6037.0</td>\n",
       "      <td>2017-01-01</td>\n",
       "      <td>2376.0</td>\n",
       "      <td>4.0</td>\n",
       "      <td>3.0</td>\n",
       "      <td>145143.0</td>\n",
       "    </tr>\n",
       "    <tr>\n",
       "      <th>4</th>\n",
       "      <td>1964.0</td>\n",
       "      <td>1533.89</td>\n",
       "      <td>6037.0</td>\n",
       "      <td>2017-01-01</td>\n",
       "      <td>1312.0</td>\n",
       "      <td>3.0</td>\n",
       "      <td>3.0</td>\n",
       "      <td>119407.0</td>\n",
       "    </tr>\n",
       "    <tr>\n",
       "      <th>5</th>\n",
       "      <td>1982.0</td>\n",
       "      <td>3508.10</td>\n",
       "      <td>6111.0</td>\n",
       "      <td>2017-01-01</td>\n",
       "      <td>1492.0</td>\n",
       "      <td>3.0</td>\n",
       "      <td>2.0</td>\n",
       "      <td>331064.0</td>\n",
       "    </tr>\n",
       "    <tr>\n",
       "      <th>9</th>\n",
       "      <td>1980.0</td>\n",
       "      <td>4557.32</td>\n",
       "      <td>6037.0</td>\n",
       "      <td>2017-01-02</td>\n",
       "      <td>1290.0</td>\n",
       "      <td>2.0</td>\n",
       "      <td>3.0</td>\n",
       "      <td>371361.0</td>\n",
       "    </tr>\n",
       "  </tbody>\n",
       "</table>\n",
       "</div>"
      ],
      "text/plain": [
       "   yearbuilt  taxamount    fips transactiondate    area  bed  bath  taxvalue\n",
       "2     1962.0    6488.30  6059.0      2017-01-01  1243.0  3.0   2.0  564778.0\n",
       "3     1970.0    1777.51  6037.0      2017-01-01  2376.0  4.0   3.0  145143.0\n",
       "4     1964.0    1533.89  6037.0      2017-01-01  1312.0  3.0   3.0  119407.0\n",
       "5     1982.0    3508.10  6111.0      2017-01-01  1492.0  3.0   2.0  331064.0\n",
       "9     1980.0    4557.32  6037.0      2017-01-02  1290.0  2.0   3.0  371361.0"
      ]
     },
     "execution_count": 12,
     "metadata": {},
     "output_type": "execute_result"
    }
   ],
   "source": [
    "df.head()"
   ]
  },
  {
   "cell_type": "code",
   "execution_count": 13,
   "id": "58be0653-965d-4a4b-8416-da47a1ab6994",
   "metadata": {},
   "outputs": [
    {
     "name": "stdout",
     "output_type": "stream",
     "text": [
      "<class 'pandas.core.frame.DataFrame'>\n",
      "Int64Index: 45644 entries, 2 to 72240\n",
      "Data columns (total 8 columns):\n",
      " #   Column           Non-Null Count  Dtype  \n",
      "---  ------           --------------  -----  \n",
      " 0   yearbuilt        45644 non-null  float64\n",
      " 1   taxamount        45644 non-null  float64\n",
      " 2   fips             45644 non-null  float64\n",
      " 3   transactiondate  45644 non-null  object \n",
      " 4   area             45644 non-null  float64\n",
      " 5   bed              45644 non-null  float64\n",
      " 6   bath             45644 non-null  float64\n",
      " 7   taxvalue         45644 non-null  float64\n",
      "dtypes: float64(7), object(1)\n",
      "memory usage: 3.1+ MB\n"
     ]
    }
   ],
   "source": [
    "df.info()"
   ]
  },
  {
   "cell_type": "code",
   "execution_count": 14,
   "id": "7882e850-487a-433e-bdac-ef28eff3e23e",
   "metadata": {},
   "outputs": [],
   "source": [
    "# Selects units bought in the months of May - Aug 2017\n",
    "df = df.loc[\n",
    "         (df.transactiondate.str.contains('2017-05')) \n",
    "       | (df.transactiondate.str.contains('2017-06')) \n",
    "       | (df.transactiondate.str.contains('2017-07')) \n",
    "       | (df.transactiondate.str.contains('2017-08'))\n",
    "        ]"
   ]
  },
  {
   "cell_type": "code",
   "execution_count": 15,
   "id": "dfcad138-f2a6-4821-8d87-b4aeb31d7b34",
   "metadata": {},
   "outputs": [
    {
     "data": {
      "text/plain": [
       "6037.0    14349\n",
       "6059.0     7643\n",
       "6111.0     2473\n",
       "Name: fips, dtype: int64"
      ]
     },
     "execution_count": 15,
     "metadata": {},
     "output_type": "execute_result"
    }
   ],
   "source": [
    "df.fips.value_counts()\n",
    "# 6037 = Los Angeles county, 6059 = Orange county, ca, 6111 = Ventura County "
   ]
  },
  {
   "cell_type": "code",
   "execution_count": 16,
   "id": "bb057f17-af61-4ccd-bc04-3a5a3da5d8b7",
   "metadata": {},
   "outputs": [
    {
     "data": {
      "text/plain": [
       "yearbuilt          0\n",
       "taxamount          0\n",
       "fips               0\n",
       "transactiondate    0\n",
       "area               0\n",
       "bed                0\n",
       "bath               0\n",
       "taxvalue           0\n",
       "dtype: int64"
      ]
     },
     "execution_count": 16,
     "metadata": {},
     "output_type": "execute_result"
    }
   ],
   "source": [
    "df.isna().sum()"
   ]
  },
  {
   "cell_type": "code",
   "execution_count": 17,
   "id": "f570b357-8697-4ed4-ac44-2fc8918fc150",
   "metadata": {},
   "outputs": [
    {
     "data": {
      "text/html": [
       "<div>\n",
       "<style scoped>\n",
       "    .dataframe tbody tr th:only-of-type {\n",
       "        vertical-align: middle;\n",
       "    }\n",
       "\n",
       "    .dataframe tbody tr th {\n",
       "        vertical-align: top;\n",
       "    }\n",
       "\n",
       "    .dataframe thead th {\n",
       "        text-align: right;\n",
       "    }\n",
       "</style>\n",
       "<table border=\"1\" class=\"dataframe\">\n",
       "  <thead>\n",
       "    <tr style=\"text-align: right;\">\n",
       "      <th></th>\n",
       "      <th>yearbuilt</th>\n",
       "      <th>taxamount</th>\n",
       "      <th>fips</th>\n",
       "      <th>area</th>\n",
       "      <th>bed</th>\n",
       "      <th>bath</th>\n",
       "      <th>taxvalue</th>\n",
       "      <th>tdate_month</th>\n",
       "      <th>tdate_day</th>\n",
       "      <th>tdate_week</th>\n",
       "    </tr>\n",
       "  </thead>\n",
       "  <tbody>\n",
       "    <tr>\n",
       "      <th>578</th>\n",
       "      <td>1974.0</td>\n",
       "      <td>3490.16</td>\n",
       "      <td>6059.0</td>\n",
       "      <td>1125.0</td>\n",
       "      <td>3.0</td>\n",
       "      <td>2.0</td>\n",
       "      <td>289445.0</td>\n",
       "      <td>8</td>\n",
       "      <td>4</td>\n",
       "      <td>31</td>\n",
       "    </tr>\n",
       "    <tr>\n",
       "      <th>950</th>\n",
       "      <td>1923.0</td>\n",
       "      <td>2627.48</td>\n",
       "      <td>6037.0</td>\n",
       "      <td>1316.0</td>\n",
       "      <td>3.0</td>\n",
       "      <td>2.0</td>\n",
       "      <td>205123.0</td>\n",
       "      <td>7</td>\n",
       "      <td>21</td>\n",
       "      <td>29</td>\n",
       "    </tr>\n",
       "    <tr>\n",
       "      <th>1163</th>\n",
       "      <td>1970.0</td>\n",
       "      <td>2319.90</td>\n",
       "      <td>6037.0</td>\n",
       "      <td>1458.0</td>\n",
       "      <td>3.0</td>\n",
       "      <td>2.0</td>\n",
       "      <td>136104.0</td>\n",
       "      <td>6</td>\n",
       "      <td>23</td>\n",
       "      <td>25</td>\n",
       "    </tr>\n",
       "    <tr>\n",
       "      <th>2494</th>\n",
       "      <td>1955.0</td>\n",
       "      <td>1399.27</td>\n",
       "      <td>6037.0</td>\n",
       "      <td>1491.0</td>\n",
       "      <td>3.0</td>\n",
       "      <td>2.0</td>\n",
       "      <td>107110.0</td>\n",
       "      <td>8</td>\n",
       "      <td>23</td>\n",
       "      <td>34</td>\n",
       "    </tr>\n",
       "    <tr>\n",
       "      <th>3051</th>\n",
       "      <td>1949.0</td>\n",
       "      <td>7673.19</td>\n",
       "      <td>6037.0</td>\n",
       "      <td>1650.0</td>\n",
       "      <td>3.0</td>\n",
       "      <td>2.0</td>\n",
       "      <td>614000.0</td>\n",
       "      <td>6</td>\n",
       "      <td>1</td>\n",
       "      <td>22</td>\n",
       "    </tr>\n",
       "  </tbody>\n",
       "</table>\n",
       "</div>"
      ],
      "text/plain": [
       "      yearbuilt  taxamount    fips    area  bed  bath  taxvalue  tdate_month  \\\n",
       "578      1974.0    3490.16  6059.0  1125.0  3.0   2.0  289445.0            8   \n",
       "950      1923.0    2627.48  6037.0  1316.0  3.0   2.0  205123.0            7   \n",
       "1163     1970.0    2319.90  6037.0  1458.0  3.0   2.0  136104.0            6   \n",
       "2494     1955.0    1399.27  6037.0  1491.0  3.0   2.0  107110.0            8   \n",
       "3051     1949.0    7673.19  6037.0  1650.0  3.0   2.0  614000.0            6   \n",
       "\n",
       "      tdate_day  tdate_week  \n",
       "578           4          31  \n",
       "950          21          29  \n",
       "1163         23          25  \n",
       "2494         23          34  \n",
       "3051          1          22  "
      ]
     },
     "execution_count": 17,
     "metadata": {},
     "output_type": "execute_result"
    }
   ],
   "source": [
    "# Converting transactiondate into datetime\n",
    "\n",
    "df['transactiondate'] = pd.to_datetime(df['transactiondate'],\\\n",
    "                        format = '%Y-%m-%d', errors = 'coerce')\n",
    "\n",
    "# Creating columns for month, day, and week. We know they're all 2017\n",
    "# so we don't need year\n",
    "\n",
    "df['tdate_month'] = df['transactiondate'].dt.month\n",
    "df['tdate_day'] = df['transactiondate'].dt.day\n",
    "df['tdate_week'] = df['transactiondate'].dt.week\n",
    "\n",
    "# Dropping transactiondate\n",
    "\n",
    "df.drop(columns='transactiondate', inplace=True)\n",
    "\n",
    "df.head()"
   ]
  },
  {
   "cell_type": "code",
   "execution_count": 18,
   "id": "61bf0860-6da5-44b6-9246-90a1feb8dc03",
   "metadata": {},
   "outputs": [],
   "source": [
    "county_dict = {\n",
    "                6059: \"Orange\",\n",
    "                6037: \"Los Angeles\",\n",
    "                6111: \"Ventura\"\n",
    "                }"
   ]
  },
  {
   "cell_type": "code",
   "execution_count": 19,
   "id": "fdf96773-5df3-48ab-82c6-f72a85cf4165",
   "metadata": {},
   "outputs": [
    {
     "data": {
      "text/plain": [
       "dtype('float64')"
      ]
     },
     "execution_count": 19,
     "metadata": {},
     "output_type": "execute_result"
    }
   ],
   "source": [
    "df.fips.dtypes"
   ]
  },
  {
   "cell_type": "code",
   "execution_count": 20,
   "id": "529339d8-9456-4945-be76-0b0767ca5425",
   "metadata": {
    "tags": []
   },
   "outputs": [],
   "source": [
    "df['county'] = df.fips.replace(county_dict)"
   ]
  },
  {
   "cell_type": "code",
   "execution_count": 21,
   "id": "ee05d11a-8300-4a89-8bd0-354aa7e23a45",
   "metadata": {},
   "outputs": [
    {
     "data": {
      "text/html": [
       "<div>\n",
       "<style scoped>\n",
       "    .dataframe tbody tr th:only-of-type {\n",
       "        vertical-align: middle;\n",
       "    }\n",
       "\n",
       "    .dataframe tbody tr th {\n",
       "        vertical-align: top;\n",
       "    }\n",
       "\n",
       "    .dataframe thead th {\n",
       "        text-align: right;\n",
       "    }\n",
       "</style>\n",
       "<table border=\"1\" class=\"dataframe\">\n",
       "  <thead>\n",
       "    <tr style=\"text-align: right;\">\n",
       "      <th></th>\n",
       "      <th>yearbuilt</th>\n",
       "      <th>taxamount</th>\n",
       "      <th>fips</th>\n",
       "      <th>area</th>\n",
       "      <th>bed</th>\n",
       "      <th>bath</th>\n",
       "      <th>taxvalue</th>\n",
       "      <th>tdate_month</th>\n",
       "      <th>tdate_day</th>\n",
       "      <th>tdate_week</th>\n",
       "      <th>county</th>\n",
       "    </tr>\n",
       "  </thead>\n",
       "  <tbody>\n",
       "    <tr>\n",
       "      <th>578</th>\n",
       "      <td>1974.0</td>\n",
       "      <td>3490.16</td>\n",
       "      <td>6059.0</td>\n",
       "      <td>1125.0</td>\n",
       "      <td>3.0</td>\n",
       "      <td>2.0</td>\n",
       "      <td>289445.0</td>\n",
       "      <td>8</td>\n",
       "      <td>4</td>\n",
       "      <td>31</td>\n",
       "      <td>Orange</td>\n",
       "    </tr>\n",
       "    <tr>\n",
       "      <th>950</th>\n",
       "      <td>1923.0</td>\n",
       "      <td>2627.48</td>\n",
       "      <td>6037.0</td>\n",
       "      <td>1316.0</td>\n",
       "      <td>3.0</td>\n",
       "      <td>2.0</td>\n",
       "      <td>205123.0</td>\n",
       "      <td>7</td>\n",
       "      <td>21</td>\n",
       "      <td>29</td>\n",
       "      <td>Los Angeles</td>\n",
       "    </tr>\n",
       "    <tr>\n",
       "      <th>1163</th>\n",
       "      <td>1970.0</td>\n",
       "      <td>2319.90</td>\n",
       "      <td>6037.0</td>\n",
       "      <td>1458.0</td>\n",
       "      <td>3.0</td>\n",
       "      <td>2.0</td>\n",
       "      <td>136104.0</td>\n",
       "      <td>6</td>\n",
       "      <td>23</td>\n",
       "      <td>25</td>\n",
       "      <td>Los Angeles</td>\n",
       "    </tr>\n",
       "    <tr>\n",
       "      <th>2494</th>\n",
       "      <td>1955.0</td>\n",
       "      <td>1399.27</td>\n",
       "      <td>6037.0</td>\n",
       "      <td>1491.0</td>\n",
       "      <td>3.0</td>\n",
       "      <td>2.0</td>\n",
       "      <td>107110.0</td>\n",
       "      <td>8</td>\n",
       "      <td>23</td>\n",
       "      <td>34</td>\n",
       "      <td>Los Angeles</td>\n",
       "    </tr>\n",
       "    <tr>\n",
       "      <th>3051</th>\n",
       "      <td>1949.0</td>\n",
       "      <td>7673.19</td>\n",
       "      <td>6037.0</td>\n",
       "      <td>1650.0</td>\n",
       "      <td>3.0</td>\n",
       "      <td>2.0</td>\n",
       "      <td>614000.0</td>\n",
       "      <td>6</td>\n",
       "      <td>1</td>\n",
       "      <td>22</td>\n",
       "      <td>Los Angeles</td>\n",
       "    </tr>\n",
       "  </tbody>\n",
       "</table>\n",
       "</div>"
      ],
      "text/plain": [
       "      yearbuilt  taxamount    fips    area  bed  bath  taxvalue  tdate_month  \\\n",
       "578      1974.0    3490.16  6059.0  1125.0  3.0   2.0  289445.0            8   \n",
       "950      1923.0    2627.48  6037.0  1316.0  3.0   2.0  205123.0            7   \n",
       "1163     1970.0    2319.90  6037.0  1458.0  3.0   2.0  136104.0            6   \n",
       "2494     1955.0    1399.27  6037.0  1491.0  3.0   2.0  107110.0            8   \n",
       "3051     1949.0    7673.19  6037.0  1650.0  3.0   2.0  614000.0            6   \n",
       "\n",
       "      tdate_day  tdate_week       county  \n",
       "578           4          31       Orange  \n",
       "950          21          29  Los Angeles  \n",
       "1163         23          25  Los Angeles  \n",
       "2494         23          34  Los Angeles  \n",
       "3051          1          22  Los Angeles  "
      ]
     },
     "execution_count": 21,
     "metadata": {},
     "output_type": "execute_result"
    }
   ],
   "source": [
    "df.head()"
   ]
  },
  {
   "cell_type": "code",
   "execution_count": 22,
   "id": "8fea8243-2096-4d95-aaab-3518f30d4370",
   "metadata": {},
   "outputs": [
    {
     "name": "stdout",
     "output_type": "stream",
     "text": [
      "<class 'pandas.core.frame.DataFrame'>\n",
      "Int64Index: 24465 entries, 578 to 67826\n",
      "Data columns (total 11 columns):\n",
      " #   Column       Non-Null Count  Dtype  \n",
      "---  ------       --------------  -----  \n",
      " 0   yearbuilt    24465 non-null  float64\n",
      " 1   taxamount    24465 non-null  float64\n",
      " 2   fips         24465 non-null  float64\n",
      " 3   area         24465 non-null  float64\n",
      " 4   bed          24465 non-null  float64\n",
      " 5   bath         24465 non-null  float64\n",
      " 6   taxvalue     24465 non-null  float64\n",
      " 7   tdate_month  24465 non-null  int64  \n",
      " 8   tdate_day    24465 non-null  int64  \n",
      " 9   tdate_week   24465 non-null  int64  \n",
      " 10  county       24465 non-null  object \n",
      "dtypes: float64(7), int64(3), object(1)\n",
      "memory usage: 2.2+ MB\n"
     ]
    }
   ],
   "source": [
    "df.info()"
   ]
  },
  {
   "cell_type": "code",
   "execution_count": 23,
   "id": "bb68eb02-2cff-4c86-a102-db14ebf62d5a",
   "metadata": {},
   "outputs": [],
   "source": [
    "def split(df):\n",
    "    '''\n",
    "    take in a DataFrame and return train, validate, and test DataFrames.\n",
    "    return train, validate, test DataFrames.\n",
    "    '''\n",
    "    train_validate, test = train_test_split(df, test_size=.2, random_state=123)\n",
    "    train, validate = train_test_split(train_validate, \n",
    "                                       test_size=.3, \n",
    "                                       random_state=123)\n",
    "    return train, validate, test"
   ]
  },
  {
   "cell_type": "code",
   "execution_count": 24,
   "id": "511e8495-1b7d-4c58-9ff1-154688dc4c4b",
   "metadata": {},
   "outputs": [
    {
     "data": {
      "text/plain": [
       "((13700, 11), (5872, 11), (4893, 11))"
      ]
     },
     "execution_count": 24,
     "metadata": {},
     "output_type": "execute_result"
    }
   ],
   "source": [
    "train, validate, test = split(df)\n",
    "train.shape, validate.shape, test.shape"
   ]
  },
  {
   "cell_type": "code",
   "execution_count": 31,
   "id": "2d85e7b9-43f9-428f-9be4-a552283b8a68",
   "metadata": {},
   "outputs": [],
   "source": [
    "def make_vars():\n",
    "    \n",
    "    target = \"taxvalue\"\n",
    "    clist = ['area', 'bed', 'bath']\n",
    "\n",
    "    # split train into X (dataframe, only col in list) & y (series, keep target only)\n",
    "    X_train = train[clist]\n",
    "    y_train = train[target]\n",
    "    y_train = pd.DataFrame(y_train)\n",
    "    \n",
    "    # split validate into X (dataframe, only col in list) & y (series, keep target only)\n",
    "    X_validate = validate[clist]\n",
    "    y_validate = validate[target]\n",
    "    y_validate = pd.DataFrame(y_validate)\n",
    "\n",
    "    # split test into X (dataframe, only col in list) & y (series, keep target only)\n",
    "    X_test = test[clist]\n",
    "    y_test = test[target]\n",
    "    y_test = pd.DataFrame(y_test)\n",
    "    \n",
    "    return target, X_train, y_train, X_validate, y_validate, X_test, y_test"
   ]
  },
  {
   "cell_type": "code",
   "execution_count": 32,
   "id": "741d9f21-5cae-4db6-9faf-9d235b4ce726",
   "metadata": {},
   "outputs": [
    {
     "data": {
      "text/plain": [
       "('taxvalue',\n",
       " (13700, 3),\n",
       " (13700, 1),\n",
       " (5872, 3),\n",
       " (5872, 1),\n",
       " (4893, 3),\n",
       " (4893, 1))"
      ]
     },
     "execution_count": 32,
     "metadata": {},
     "output_type": "execute_result"
    }
   ],
   "source": [
    "target, X_train, y_train, X_validate, y_validate, X_test, y_test = make_vars()\n",
    "target, X_train.shape, y_train.shape, X_validate.shape, y_validate.shape, X_test.shape, y_test.shape"
   ]
  },
  {
   "cell_type": "code",
   "execution_count": 33,
   "id": "abb801f4-d1c7-4e14-973c-9228db6a8a6a",
   "metadata": {},
   "outputs": [
    {
     "data": {
      "image/png": "[encoded data removed]",
      "text/plain": [
       "<Figure size 432x288 with 1 Axes>"
      ]
     },
     "metadata": {
      "needs_background": "light"
     },
     "output_type": "display_data"
    }
   ],
   "source": [
    "plt.hist(y_train)\n",
    "plt.title('Distribution of Target(taxvalue)')\n",
    "plt.show()"
   ]
  },
  {
   "cell_type": "code",
   "execution_count": 34,
   "id": "d1b0b8ac-6b56-4a2a-985b-3ae64237488d",
   "metadata": {},
   "outputs": [
    {
     "name": "stdout",
     "output_type": "stream",
     "text": [
      "RMSE using Mean\n",
      "Train/In-Sample:  183280.54 \n",
      "Validate/Out-of-Sample:  184140.0\n",
      "\n",
      "RMSE using Median\n",
      "Train/In-Sample:  183608.5 \n",
      "Validate/Out-of-Sample:  184669.37\n"
     ]
    }
   ],
   "source": [
    "\n",
    "# 1. Predict taxvalue_pred_mean\n",
    "taxvalue_pred_mean = y_train.taxvalue.mean()\n",
    "y_train['taxvalue_pred_mean'] = taxvalue_pred_mean\n",
    "y_validate['taxvalue_pred_mean'] = taxvalue_pred_mean\n",
    "\n",
    "\n",
    "# 2. compute taxvalue_pred_median\n",
    "taxvalue_pred_median = y_train.taxvalue.median()\n",
    "y_train['taxvalue_pred_median'] = taxvalue_pred_median\n",
    "y_validate['taxvalue_pred_median'] = taxvalue_pred_median\n",
    "\n",
    "\n",
    "# 3. RMSE of taxvalue_pred_mean\n",
    "rmse_train = mean_squared_error(y_train.taxvalue, y_train.taxvalue_pred_mean) ** .5\n",
    "rmse_validate = mean_squared_error(y_validate.taxvalue, y_validate.taxvalue_pred_mean) ** (1/2)\n",
    "print(\"RMSE using Mean\\nTrain/In-Sample: \", round(rmse_train, 2), \n",
    "      \"\\nValidate/Out-of-Sample: \", round(rmse_validate, 2))\n",
    "\n",
    "# 4. RMSE of taxvalue_pred_median\n",
    "rmse_train = mean_squared_error(y_train.taxvalue, y_train.taxvalue_pred_median) ** .5\n",
    "rmse_validate = mean_squared_error(y_validate.taxvalue, y_validate.taxvalue_pred_median) ** .5\n",
    "print(\"\\nRMSE using Median\\nTrain/In-Sample: \", round(rmse_train, 2), \n",
    "      \"\\nValidate/Out-of-Sample: \", round(rmse_validate, 2))"
   ]
  },
  {
   "cell_type": "code",
   "execution_count": 35,
   "id": "54267d19-7413-4590-872c-c2803a914e85",
   "metadata": {},
   "outputs": [],
   "source": [
    "from sklearn.metrics import explained_variance_score"
   ]
  },
  {
   "cell_type": "code",
   "execution_count": 36,
   "id": "7cf81db9-710f-41b5-a697-3520d4b67ca4",
   "metadata": {},
   "outputs": [],
   "source": [
    "\n",
    "def make_metric_df(y, y_pred, model_name, metric_df):\n",
    "    if metric_df.size ==0:\n",
    "        metric_df = pd.DataFrame(data=[\n",
    "            {\n",
    "                'model': model_name, \n",
    "                'RMSE_validate': mean_squared_error(\n",
    "                    y,\n",
    "                    y_pred) ** .5,\n",
    "                'r^2_validate': explained_variance_score(\n",
    "                    y,\n",
    "                    y_pred)\n",
    "            }])\n",
    "        return metric_df\n",
    "    else:\n",
    "        return metric_df.append(\n",
    "            {\n",
    "                'model': model_name, \n",
    "                'RMSE_validate': mean_squared_error(\n",
    "                    y,\n",
    "                    y_pred) ** .5,\n",
    "                'r^2_validate': explained_variance_score(\n",
    "                    y,\n",
    "                    y_pred)\n",
    "            }, ignore_index=True)"
   ]
  },
  {
   "cell_type": "code",
   "execution_count": 37,
   "id": "3f90ebb3-0a4a-418f-aa0e-13f0fa8edfc8",
   "metadata": {},
   "outputs": [],
   "source": [
    "metric_df = pd.DataFrame()\n",
    "metric_df = make_metric_df(y_train.taxvalue,\n",
    "                           y_train.taxvalue_pred_median,\n",
    "                           'median_baseline',\n",
    "                          metric_df)"
   ]
  },
  {
   "cell_type": "code",
   "execution_count": 50,
   "id": "6b26ed70-d523-4449-823d-8e25349250ef",
   "metadata": {},
   "outputs": [],
   "source": [
    "metric_df = make_metric_df(y_train.taxvalue,\n",
    "                           y_train.taxvalue_pred_mean,\n",
    "                           'mean_baseline',\n",
    "                          metric_df)"
   ]
  },
  {
   "cell_type": "code",
   "execution_count": 55,
   "id": "7d3448a2-e75f-474e-81f6-996dd4aa6552",
   "metadata": {},
   "outputs": [
    {
     "data": {
      "text/html": [
       "<div>\n",
       "<style scoped>\n",
       "    .dataframe tbody tr th:only-of-type {\n",
       "        vertical-align: middle;\n",
       "    }\n",
       "\n",
       "    .dataframe tbody tr th {\n",
       "        vertical-align: top;\n",
       "    }\n",
       "\n",
       "    .dataframe thead th {\n",
       "        text-align: right;\n",
       "    }\n",
       "</style>\n",
       "<table border=\"1\" class=\"dataframe\">\n",
       "  <thead>\n",
       "    <tr style=\"text-align: right;\">\n",
       "      <th></th>\n",
       "      <th>model</th>\n",
       "      <th>RMSE_validate</th>\n",
       "      <th>r^2_validate</th>\n",
       "    </tr>\n",
       "  </thead>\n",
       "  <tbody>\n",
       "    <tr>\n",
       "      <th>0</th>\n",
       "      <td>median_baseline</td>\n",
       "      <td>183608.500703</td>\n",
       "      <td>0.000000</td>\n",
       "    </tr>\n",
       "    <tr>\n",
       "      <th>1</th>\n",
       "      <td>mean_baseline</td>\n",
       "      <td>183280.539570</td>\n",
       "      <td>0.000000</td>\n",
       "    </tr>\n",
       "    <tr>\n",
       "      <th>2</th>\n",
       "      <td>OLS Regressor</td>\n",
       "      <td>174258.347266</td>\n",
       "      <td>0.104487</td>\n",
       "    </tr>\n",
       "    <tr>\n",
       "      <th>3</th>\n",
       "      <td>validate_mean_baseline</td>\n",
       "      <td>184139.996823</td>\n",
       "      <td>0.000000</td>\n",
       "    </tr>\n",
       "  </tbody>\n",
       "</table>\n",
       "</div>"
      ],
      "text/plain": [
       "                    model  RMSE_validate  r^2_validate\n",
       "0         median_baseline  183608.500703      0.000000\n",
       "1           mean_baseline  183280.539570      0.000000\n",
       "2           OLS Regressor  174258.347266      0.104487\n",
       "3  validate_mean_baseline  184139.996823      0.000000"
      ]
     },
     "execution_count": 55,
     "metadata": {},
     "output_type": "execute_result"
    }
   ],
   "source": [
    "metric_df"
   ]
  },
  {
   "cell_type": "code",
   "execution_count": 46,
   "id": "b29989ee-ca72-4075-8559-eb6fbfaea5b8",
   "metadata": {},
   "outputs": [
    {
     "data": {
      "image/png": "[encoded data removed]",
      "text/plain": [
       "<Figure size 432x288 with 1 Axes>"
      ]
     },
     "metadata": {
      "needs_background": "light"
     },
     "output_type": "display_data"
    }
   ],
   "source": [
    "\n",
    "# plot to visualize actual vs predicted. \n",
    "plt.hist(y_train.taxvalue, color='blue', alpha=.5, label=\"Actual\")\n",
    "plt.hist(y_train.taxvalue_pred_mean, label=\"Predicted - Mean\")\n",
    "plt.hist(y_train.taxvalue_pred_median, label=\"Predicted - Median\")\n",
    "plt.xlabel(\"taxvalue\")\n",
    "plt.ylabel(\"Count\")\n",
    "plt.legend()\n",
    "plt.show()"
   ]
  },
  {
   "cell_type": "code",
   "execution_count": 48,
   "id": "0bae3e71-9d50-46a3-b4a5-a6e91dcb46ff",
   "metadata": {},
   "outputs": [],
   "source": [
    "def linear_regression():\n",
    "\n",
    "    lm = LinearRegression(normalize=True)\n",
    "\n",
    "    lm.fit(X_train, y_train.taxvalue)\n",
    "\n",
    "    y_train['taxvalue_pred_lm'] = lm.predict(X_train)\n",
    "\n",
    "    # evaluate: rmse\n",
    "    rmse_train = mean_squared_error(y_train.taxvalue, y_train.taxvalue_pred_lm) ** (1/2)\n",
    "\n",
    "    # predict validate\n",
    "    y_validate['taxvalue_pred_lm'] = lm.predict(X_validate)\n",
    "\n",
    "    # evaluate: rmse\n",
    "    rmse_validate = mean_squared_error(y_validate.taxvalue, y_validate.taxvalue_pred_lm) ** (1/2)\n",
    "\n",
    "    return print(\"RMSE for OLS using LinearRegression\\nTraining/In-Sample: \", rmse_train, \n",
    "                  \"\\nValidation/Out-of-Sample: \", rmse_validate)"
   ]
  },
  {
   "cell_type": "code",
   "execution_count": 49,
   "id": "f2840a6c-08c9-4707-92d6-fb142e84ec2a",
   "metadata": {},
   "outputs": [
    {
     "name": "stdout",
     "output_type": "stream",
     "text": [
      "RMSE for OLS using LinearRegression\n",
      "Training/In-Sample:  174317.49944991924 \n",
      "Validation/Out-of-Sample:  174258.34726592238\n"
     ]
    }
   ],
   "source": [
    "linear_regression()"
   ]
  },
  {
   "cell_type": "code",
   "execution_count": 53,
   "id": "91011c99-ce12-4b1d-b860-4df41038d849",
   "metadata": {},
   "outputs": [
    {
     "data": {
      "text/html": [
       "<div>\n",
       "<style scoped>\n",
       "    .dataframe tbody tr th:only-of-type {\n",
       "        vertical-align: middle;\n",
       "    }\n",
       "\n",
       "    .dataframe tbody tr th {\n",
       "        vertical-align: top;\n",
       "    }\n",
       "\n",
       "    .dataframe thead th {\n",
       "        text-align: right;\n",
       "    }\n",
       "</style>\n",
       "<table border=\"1\" class=\"dataframe\">\n",
       "  <thead>\n",
       "    <tr style=\"text-align: right;\">\n",
       "      <th></th>\n",
       "      <th>model</th>\n",
       "      <th>RMSE_validate</th>\n",
       "      <th>r^2_validate</th>\n",
       "    </tr>\n",
       "  </thead>\n",
       "  <tbody>\n",
       "    <tr>\n",
       "      <th>0</th>\n",
       "      <td>median_baseline</td>\n",
       "      <td>183608.500703</td>\n",
       "      <td>0.000000</td>\n",
       "    </tr>\n",
       "    <tr>\n",
       "      <th>1</th>\n",
       "      <td>mean_baseline</td>\n",
       "      <td>183280.539570</td>\n",
       "      <td>0.000000</td>\n",
       "    </tr>\n",
       "    <tr>\n",
       "      <th>2</th>\n",
       "      <td>OLS Regressor</td>\n",
       "      <td>174258.347266</td>\n",
       "      <td>0.104487</td>\n",
       "    </tr>\n",
       "  </tbody>\n",
       "</table>\n",
       "</div>"
      ],
      "text/plain": [
       "             model  RMSE_validate  r^2_validate\n",
       "0  median_baseline  183608.500703      0.000000\n",
       "1    mean_baseline  183280.539570      0.000000\n",
       "2    OLS Regressor  174258.347266      0.104487"
      ]
     },
     "execution_count": 53,
     "metadata": {},
     "output_type": "execute_result"
    }
   ],
   "source": [
    "metric_df = make_metric_df(y_validate.taxvalue,\n",
    "                           y_validate.taxvalue_pred_lm,\n",
    "                           'OLS Regressor',\n",
    "                          metric_df)\n",
    "metric_df"
   ]
  },
  {
   "cell_type": "code",
   "execution_count": 56,
   "id": "94e31e89-bcdc-47f6-99b4-cbf120bdcee1",
   "metadata": {},
   "outputs": [],
   "source": [
    "def lassolars(a):\n",
    "    # given a for alpha\n",
    "    \n",
    "    # create the model object\n",
    "    lars = LassoLars(alpha=a)\n",
    "\n",
    "    # fit the model to our training data. We must specify the column in y_train, \n",
    "    # since we have converted it to a dataframe from a series!\n",
    "    lars.fit(X_train, y_train.taxvalue)\n",
    "\n",
    "    # predict train\n",
    "    y_train['taxvalue_pred_lars'] = lars.predict(X_train)\n",
    "\n",
    "    # evaluate: rmse\n",
    "    rmse_train = mean_squared_error(y_train.taxvalue, y_train.taxvalue_pred_lars) ** (1/2)\n",
    "\n",
    "    # predict validate\n",
    "    y_validate['taxvalue_pred_lars'] = lars.predict(X_validate)\n",
    "\n",
    "    # evaluate: rmse\n",
    "    rmse_validate = mean_squared_error(y_validate.taxvalue, y_validate.taxvalue_pred_lars) ** (1/2)\n",
    "\n",
    "    return print(\"RMSE for Lasso + Lars\\nTraining/In-Sample: \", rmse_train, \n",
    "      \"\\nValidation/Out-of-Sample: \", rmse_validate)"
   ]
  },
  {
   "cell_type": "code",
   "execution_count": 57,
   "id": "fd610ef4-2a2e-4ca9-85ff-b6ef1d36fae4",
   "metadata": {},
   "outputs": [
    {
     "name": "stdout",
     "output_type": "stream",
     "text": [
      "RMSE for Lasso + Lars\n",
      "Training/In-Sample:  174317.69682183256 \n",
      "Validation/Out-of-Sample:  174260.48803471963\n"
     ]
    }
   ],
   "source": [
    "lassolars(1)"
   ]
  },
  {
   "cell_type": "code",
   "execution_count": 58,
   "id": "fe43f760-7867-4496-989b-e10cdfe92206",
   "metadata": {},
   "outputs": [
    {
     "data": {
      "text/html": [
       "<div>\n",
       "<style scoped>\n",
       "    .dataframe tbody tr th:only-of-type {\n",
       "        vertical-align: middle;\n",
       "    }\n",
       "\n",
       "    .dataframe tbody tr th {\n",
       "        vertical-align: top;\n",
       "    }\n",
       "\n",
       "    .dataframe thead th {\n",
       "        text-align: right;\n",
       "    }\n",
       "</style>\n",
       "<table border=\"1\" class=\"dataframe\">\n",
       "  <thead>\n",
       "    <tr style=\"text-align: right;\">\n",
       "      <th></th>\n",
       "      <th>model</th>\n",
       "      <th>RMSE_validate</th>\n",
       "      <th>r^2_validate</th>\n",
       "    </tr>\n",
       "  </thead>\n",
       "  <tbody>\n",
       "    <tr>\n",
       "      <th>0</th>\n",
       "      <td>median_baseline</td>\n",
       "      <td>183608.500703</td>\n",
       "      <td>0.000000</td>\n",
       "    </tr>\n",
       "    <tr>\n",
       "      <th>1</th>\n",
       "      <td>mean_baseline</td>\n",
       "      <td>183280.539570</td>\n",
       "      <td>0.000000</td>\n",
       "    </tr>\n",
       "    <tr>\n",
       "      <th>2</th>\n",
       "      <td>OLS Regressor</td>\n",
       "      <td>174258.347266</td>\n",
       "      <td>0.104487</td>\n",
       "    </tr>\n",
       "    <tr>\n",
       "      <th>3</th>\n",
       "      <td>validate_mean_baseline</td>\n",
       "      <td>184139.996823</td>\n",
       "      <td>0.000000</td>\n",
       "    </tr>\n",
       "    <tr>\n",
       "      <th>4</th>\n",
       "      <td>lasso_alpha_1</td>\n",
       "      <td>174260.488035</td>\n",
       "      <td>0.104466</td>\n",
       "    </tr>\n",
       "  </tbody>\n",
       "</table>\n",
       "</div>"
      ],
      "text/plain": [
       "                    model  RMSE_validate  r^2_validate\n",
       "0         median_baseline  183608.500703      0.000000\n",
       "1           mean_baseline  183280.539570      0.000000\n",
       "2           OLS Regressor  174258.347266      0.104487\n",
       "3  validate_mean_baseline  184139.996823      0.000000\n",
       "4           lasso_alpha_1  174260.488035      0.104466"
      ]
     },
     "execution_count": 58,
     "metadata": {},
     "output_type": "execute_result"
    }
   ],
   "source": [
    "metric_df = make_metric_df(y_validate.taxvalue,\n",
    "               y_validate.taxvalue_pred_lars,\n",
    "               'lasso_alpha_1',\n",
    "               metric_df)\n",
    "metric_df"
   ]
  },
  {
   "cell_type": "code",
   "execution_count": 59,
   "id": "d28df9f4-62a2-4574-81c3-48d7dea9a02f",
   "metadata": {},
   "outputs": [
    {
     "name": "stdout",
     "output_type": "stream",
     "text": [
      "RMSE for Lasso + Lars\n",
      "Training/In-Sample:  174318.28893623152 \n",
      "Validation/Out-of-Sample:  174263.0212195972\n"
     ]
    }
   ],
   "source": [
    "lassolars(2)"
   ]
  },
  {
   "cell_type": "code",
   "execution_count": 60,
   "id": "6df18b49-583a-433a-b509-8d229b23842e",
   "metadata": {},
   "outputs": [
    {
     "data": {
      "text/html": [
       "<div>\n",
       "<style scoped>\n",
       "    .dataframe tbody tr th:only-of-type {\n",
       "        vertical-align: middle;\n",
       "    }\n",
       "\n",
       "    .dataframe tbody tr th {\n",
       "        vertical-align: top;\n",
       "    }\n",
       "\n",
       "    .dataframe thead th {\n",
       "        text-align: right;\n",
       "    }\n",
       "</style>\n",
       "<table border=\"1\" class=\"dataframe\">\n",
       "  <thead>\n",
       "    <tr style=\"text-align: right;\">\n",
       "      <th></th>\n",
       "      <th>model</th>\n",
       "      <th>RMSE_validate</th>\n",
       "      <th>r^2_validate</th>\n",
       "    </tr>\n",
       "  </thead>\n",
       "  <tbody>\n",
       "    <tr>\n",
       "      <th>0</th>\n",
       "      <td>median_baseline</td>\n",
       "      <td>183608.500703</td>\n",
       "      <td>0.000000</td>\n",
       "    </tr>\n",
       "    <tr>\n",
       "      <th>1</th>\n",
       "      <td>mean_baseline</td>\n",
       "      <td>183280.539570</td>\n",
       "      <td>0.000000</td>\n",
       "    </tr>\n",
       "    <tr>\n",
       "      <th>2</th>\n",
       "      <td>OLS Regressor</td>\n",
       "      <td>174258.347266</td>\n",
       "      <td>0.104487</td>\n",
       "    </tr>\n",
       "    <tr>\n",
       "      <th>3</th>\n",
       "      <td>validate_mean_baseline</td>\n",
       "      <td>184139.996823</td>\n",
       "      <td>0.000000</td>\n",
       "    </tr>\n",
       "    <tr>\n",
       "      <th>4</th>\n",
       "      <td>lasso_alpha_1</td>\n",
       "      <td>174260.488035</td>\n",
       "      <td>0.104466</td>\n",
       "    </tr>\n",
       "    <tr>\n",
       "      <th>5</th>\n",
       "      <td>lasso_alpha_2</td>\n",
       "      <td>174263.021220</td>\n",
       "      <td>0.104440</td>\n",
       "    </tr>\n",
       "  </tbody>\n",
       "</table>\n",
       "</div>"
      ],
      "text/plain": [
       "                    model  RMSE_validate  r^2_validate\n",
       "0         median_baseline  183608.500703      0.000000\n",
       "1           mean_baseline  183280.539570      0.000000\n",
       "2           OLS Regressor  174258.347266      0.104487\n",
       "3  validate_mean_baseline  184139.996823      0.000000\n",
       "4           lasso_alpha_1  174260.488035      0.104466\n",
       "5           lasso_alpha_2  174263.021220      0.104440"
      ]
     },
     "execution_count": 60,
     "metadata": {},
     "output_type": "execute_result"
    }
   ],
   "source": [
    "metric_df = make_metric_df(y_validate.taxvalue,\n",
    "               y_validate.taxvalue_pred_lars,\n",
    "               'lasso_alpha_2',\n",
    "               metric_df)\n",
    "metric_df"
   ]
  },
  {
   "cell_type": "code",
   "execution_count": 74,
   "id": "5ef8bb35-274d-40c3-b91f-5c6079bae13f",
   "metadata": {},
   "outputs": [],
   "source": [
    "def tweedie_regressor(p, a):\n",
    "    \n",
    "    # create the model object\n",
    "    glm = TweedieRegressor(power=p, alpha=a)\n",
    "    \n",
    "\n",
    "    # fit the model to our training data. We must specify the column in y_train, \n",
    "    # since we have converted it to a dataframe from a series! \n",
    "    glm.fit(X_train, y_train.taxvalue)\n",
    "\n",
    "    # predict train\n",
    "    y_train['taxvalue_pred_glm'] = glm.predict(X_train)\n",
    "\n",
    "    # evaluate: rmse\n",
    "    rmse_train = mean_squared_error(y_train.taxvalue, y_train.taxvalue_pred_glm) ** (1/2)\n",
    "\n",
    "    # predict validate\n",
    "    y_validate['taxvalue_pred_glm'] = glm.predict(X_validate)\n",
    "\n",
    "    # evaluate: rmse\n",
    "    rmse_validate = mean_squared_error(y_validate.taxvalue, y_validate.taxvalue_pred_glm) ** (1/2)\n",
    "\n",
    "    return print(f\"RMSE for GLM using Tweedie, power={p} & alpha={a}\\nTraining/In-Sample: \", rmse_train, \n",
    "      \"\\nValidation/Out-of-Sample: \", rmse_validate)"
   ]
  },
  {
   "cell_type": "code",
   "execution_count": 69,
   "id": "0f64eda6-c265-416a-9540-0f6809ddefaa",
   "metadata": {},
   "outputs": [
    {
     "name": "stdout",
     "output_type": "stream",
     "text": [
      "RMSE for GLM using Tweedie, power=0 & alpha=0\n",
      "Training/In-Sample:  183280.53956979554 \n",
      "Validation/Out-of-Sample:  184139.99682273561\n"
     ]
    }
   ],
   "source": [
    "tweedie_regressor(1, 0)"
   ]
  },
  {
   "cell_type": "code",
   "execution_count": 65,
   "id": "668bbb8a-a7d7-4fec-aa0d-9565e8db46ef",
   "metadata": {},
   "outputs": [
    {
     "data": {
      "text/html": [
       "<div>\n",
       "<style scoped>\n",
       "    .dataframe tbody tr th:only-of-type {\n",
       "        vertical-align: middle;\n",
       "    }\n",
       "\n",
       "    .dataframe tbody tr th {\n",
       "        vertical-align: top;\n",
       "    }\n",
       "\n",
       "    .dataframe thead th {\n",
       "        text-align: right;\n",
       "    }\n",
       "</style>\n",
       "<table border=\"1\" class=\"dataframe\">\n",
       "  <thead>\n",
       "    <tr style=\"text-align: right;\">\n",
       "      <th></th>\n",
       "      <th>model</th>\n",
       "      <th>RMSE_validate</th>\n",
       "      <th>r^2_validate</th>\n",
       "    </tr>\n",
       "  </thead>\n",
       "  <tbody>\n",
       "    <tr>\n",
       "      <th>0</th>\n",
       "      <td>median_baseline</td>\n",
       "      <td>183608.500703</td>\n",
       "      <td>0.000000</td>\n",
       "    </tr>\n",
       "    <tr>\n",
       "      <th>1</th>\n",
       "      <td>mean_baseline</td>\n",
       "      <td>183280.539570</td>\n",
       "      <td>0.000000</td>\n",
       "    </tr>\n",
       "    <tr>\n",
       "      <th>2</th>\n",
       "      <td>OLS Regressor</td>\n",
       "      <td>174258.347266</td>\n",
       "      <td>0.104487</td>\n",
       "    </tr>\n",
       "    <tr>\n",
       "      <th>3</th>\n",
       "      <td>validate_mean_baseline</td>\n",
       "      <td>184139.996823</td>\n",
       "      <td>0.000000</td>\n",
       "    </tr>\n",
       "    <tr>\n",
       "      <th>4</th>\n",
       "      <td>lasso_alpha_1</td>\n",
       "      <td>174260.488035</td>\n",
       "      <td>0.104466</td>\n",
       "    </tr>\n",
       "    <tr>\n",
       "      <th>5</th>\n",
       "      <td>lasso_alpha_2</td>\n",
       "      <td>174263.021220</td>\n",
       "      <td>0.104440</td>\n",
       "    </tr>\n",
       "    <tr>\n",
       "      <th>6</th>\n",
       "      <td>TweedieRegressor(p=1, a=0)</td>\n",
       "      <td>184139.996823</td>\n",
       "      <td>0.000000</td>\n",
       "    </tr>\n",
       "  </tbody>\n",
       "</table>\n",
       "</div>"
      ],
      "text/plain": [
       "                        model  RMSE_validate  r^2_validate\n",
       "0             median_baseline  183608.500703      0.000000\n",
       "1               mean_baseline  183280.539570      0.000000\n",
       "2               OLS Regressor  174258.347266      0.104487\n",
       "3      validate_mean_baseline  184139.996823      0.000000\n",
       "4               lasso_alpha_1  174260.488035      0.104466\n",
       "5               lasso_alpha_2  174263.021220      0.104440\n",
       "6  TweedieRegressor(p=1, a=0)  184139.996823      0.000000"
      ]
     },
     "execution_count": 65,
     "metadata": {},
     "output_type": "execute_result"
    }
   ],
   "source": [
    "metric_df = make_metric_df(y_validate.taxvalue,\n",
    "               y_validate.taxvalue_pred_glm,\n",
    "               'TweedieRegressor(p=1, a=0)',\n",
    "               metric_df)\n",
    "metric_df"
   ]
  },
  {
   "cell_type": "code",
   "execution_count": 70,
   "id": "d0482475-9bd6-4908-9cc7-1ceb78fce33c",
   "metadata": {},
   "outputs": [
    {
     "name": "stdout",
     "output_type": "stream",
     "text": [
      "RMSE for GLM using Tweedie, power=0 & alpha=0\n",
      "Training/In-Sample:  183280.53956979554 \n",
      "Validation/Out-of-Sample:  184139.99682273561\n"
     ]
    }
   ],
   "source": [
    "tweedie_regressor(2,0)"
   ]
  },
  {
   "cell_type": "code",
   "execution_count": 67,
   "id": "0eb0c70c-4cb0-4b6d-af0e-f8b17ce80b40",
   "metadata": {},
   "outputs": [
    {
     "data": {
      "text/html": [
       "<div>\n",
       "<style scoped>\n",
       "    .dataframe tbody tr th:only-of-type {\n",
       "        vertical-align: middle;\n",
       "    }\n",
       "\n",
       "    .dataframe tbody tr th {\n",
       "        vertical-align: top;\n",
       "    }\n",
       "\n",
       "    .dataframe thead th {\n",
       "        text-align: right;\n",
       "    }\n",
       "</style>\n",
       "<table border=\"1\" class=\"dataframe\">\n",
       "  <thead>\n",
       "    <tr style=\"text-align: right;\">\n",
       "      <th></th>\n",
       "      <th>model</th>\n",
       "      <th>RMSE_validate</th>\n",
       "      <th>r^2_validate</th>\n",
       "    </tr>\n",
       "  </thead>\n",
       "  <tbody>\n",
       "    <tr>\n",
       "      <th>0</th>\n",
       "      <td>median_baseline</td>\n",
       "      <td>183608.500703</td>\n",
       "      <td>0.000000</td>\n",
       "    </tr>\n",
       "    <tr>\n",
       "      <th>1</th>\n",
       "      <td>mean_baseline</td>\n",
       "      <td>183280.539570</td>\n",
       "      <td>0.000000</td>\n",
       "    </tr>\n",
       "    <tr>\n",
       "      <th>2</th>\n",
       "      <td>OLS Regressor</td>\n",
       "      <td>174258.347266</td>\n",
       "      <td>0.104487</td>\n",
       "    </tr>\n",
       "    <tr>\n",
       "      <th>3</th>\n",
       "      <td>validate_mean_baseline</td>\n",
       "      <td>184139.996823</td>\n",
       "      <td>0.000000</td>\n",
       "    </tr>\n",
       "    <tr>\n",
       "      <th>4</th>\n",
       "      <td>lasso_alpha_1</td>\n",
       "      <td>174260.488035</td>\n",
       "      <td>0.104466</td>\n",
       "    </tr>\n",
       "    <tr>\n",
       "      <th>5</th>\n",
       "      <td>lasso_alpha_2</td>\n",
       "      <td>174263.021220</td>\n",
       "      <td>0.104440</td>\n",
       "    </tr>\n",
       "    <tr>\n",
       "      <th>6</th>\n",
       "      <td>TweedieRegressor(p=1, a=0)</td>\n",
       "      <td>184139.996823</td>\n",
       "      <td>0.000000</td>\n",
       "    </tr>\n",
       "    <tr>\n",
       "      <th>7</th>\n",
       "      <td>TweedieRegressor(p=2, a=0)</td>\n",
       "      <td>184139.996823</td>\n",
       "      <td>0.000000</td>\n",
       "    </tr>\n",
       "  </tbody>\n",
       "</table>\n",
       "</div>"
      ],
      "text/plain": [
       "                        model  RMSE_validate  r^2_validate\n",
       "0             median_baseline  183608.500703      0.000000\n",
       "1               mean_baseline  183280.539570      0.000000\n",
       "2               OLS Regressor  174258.347266      0.104487\n",
       "3      validate_mean_baseline  184139.996823      0.000000\n",
       "4               lasso_alpha_1  174260.488035      0.104466\n",
       "5               lasso_alpha_2  174263.021220      0.104440\n",
       "6  TweedieRegressor(p=1, a=0)  184139.996823      0.000000\n",
       "7  TweedieRegressor(p=2, a=0)  184139.996823      0.000000"
      ]
     },
     "execution_count": 67,
     "metadata": {},
     "output_type": "execute_result"
    }
   ],
   "source": [
    "metric_df = make_metric_df(y_validate.taxvalue,\n",
    "               y_validate.taxvalue_pred_glm,\n",
    "               'TweedieRegressor(p=2, a=0)',\n",
    "               metric_df)\n",
    "metric_df"
   ]
  },
  {
   "cell_type": "code",
   "execution_count": 71,
   "id": "2b4ae4e6-d16a-4a1b-83de-de3c39892875",
   "metadata": {},
   "outputs": [
    {
     "name": "stdout",
     "output_type": "stream",
     "text": [
      "RMSE for GLM using Tweedie, power=1 & alpha=1\n",
      "Training/In-Sample:  183280.53956979554 \n",
      "Validation/Out-of-Sample:  184139.99682273561\n"
     ]
    }
   ],
   "source": [
    "tweedie_regressor(1,1)"
   ]
  },
  {
   "cell_type": "code",
   "execution_count": 72,
   "id": "f96fbd92-fb69-43ae-80da-bded6627b503",
   "metadata": {},
   "outputs": [
    {
     "data": {
      "text/html": [
       "<div>\n",
       "<style scoped>\n",
       "    .dataframe tbody tr th:only-of-type {\n",
       "        vertical-align: middle;\n",
       "    }\n",
       "\n",
       "    .dataframe tbody tr th {\n",
       "        vertical-align: top;\n",
       "    }\n",
       "\n",
       "    .dataframe thead th {\n",
       "        text-align: right;\n",
       "    }\n",
       "</style>\n",
       "<table border=\"1\" class=\"dataframe\">\n",
       "  <thead>\n",
       "    <tr style=\"text-align: right;\">\n",
       "      <th></th>\n",
       "      <th>model</th>\n",
       "      <th>RMSE_validate</th>\n",
       "      <th>r^2_validate</th>\n",
       "    </tr>\n",
       "  </thead>\n",
       "  <tbody>\n",
       "    <tr>\n",
       "      <th>0</th>\n",
       "      <td>median_baseline</td>\n",
       "      <td>183608.500703</td>\n",
       "      <td>0.000000</td>\n",
       "    </tr>\n",
       "    <tr>\n",
       "      <th>1</th>\n",
       "      <td>mean_baseline</td>\n",
       "      <td>183280.539570</td>\n",
       "      <td>0.000000</td>\n",
       "    </tr>\n",
       "    <tr>\n",
       "      <th>2</th>\n",
       "      <td>OLS Regressor</td>\n",
       "      <td>174258.347266</td>\n",
       "      <td>0.104487</td>\n",
       "    </tr>\n",
       "    <tr>\n",
       "      <th>3</th>\n",
       "      <td>validate_mean_baseline</td>\n",
       "      <td>184139.996823</td>\n",
       "      <td>0.000000</td>\n",
       "    </tr>\n",
       "    <tr>\n",
       "      <th>4</th>\n",
       "      <td>lasso_alpha_1</td>\n",
       "      <td>174260.488035</td>\n",
       "      <td>0.104466</td>\n",
       "    </tr>\n",
       "    <tr>\n",
       "      <th>5</th>\n",
       "      <td>lasso_alpha_2</td>\n",
       "      <td>174263.021220</td>\n",
       "      <td>0.104440</td>\n",
       "    </tr>\n",
       "    <tr>\n",
       "      <th>6</th>\n",
       "      <td>TweedieRegressor(p=1, a=0)</td>\n",
       "      <td>184139.996823</td>\n",
       "      <td>0.000000</td>\n",
       "    </tr>\n",
       "    <tr>\n",
       "      <th>7</th>\n",
       "      <td>TweedieRegressor(p=2, a=0)</td>\n",
       "      <td>184139.996823</td>\n",
       "      <td>0.000000</td>\n",
       "    </tr>\n",
       "    <tr>\n",
       "      <th>8</th>\n",
       "      <td>TweedieRegressor(p=1, a=1)</td>\n",
       "      <td>184139.996823</td>\n",
       "      <td>0.000000</td>\n",
       "    </tr>\n",
       "  </tbody>\n",
       "</table>\n",
       "</div>"
      ],
      "text/plain": [
       "                        model  RMSE_validate  r^2_validate\n",
       "0             median_baseline  183608.500703      0.000000\n",
       "1               mean_baseline  183280.539570      0.000000\n",
       "2               OLS Regressor  174258.347266      0.104487\n",
       "3      validate_mean_baseline  184139.996823      0.000000\n",
       "4               lasso_alpha_1  174260.488035      0.104466\n",
       "5               lasso_alpha_2  174263.021220      0.104440\n",
       "6  TweedieRegressor(p=1, a=0)  184139.996823      0.000000\n",
       "7  TweedieRegressor(p=2, a=0)  184139.996823      0.000000\n",
       "8  TweedieRegressor(p=1, a=1)  184139.996823      0.000000"
      ]
     },
     "execution_count": 72,
     "metadata": {},
     "output_type": "execute_result"
    }
   ],
   "source": [
    "metric_df = make_metric_df(y_validate.taxvalue,\n",
    "               y_validate.taxvalue_pred_glm,\n",
    "               'TweedieRegressor(p=1, a=1)',\n",
    "               metric_df)\n",
    "metric_df"
   ]
  },
  {
   "cell_type": "code",
   "execution_count": 75,
   "id": "a58fbdbd-9842-4c47-9dd9-d9a2a210c204",
   "metadata": {},
   "outputs": [
    {
     "name": "stdout",
     "output_type": "stream",
     "text": [
      "RMSE for GLM using Tweedie, power=2 & alpha=1\n",
      "Training/In-Sample:  183280.53956979554 \n",
      "Validation/Out-of-Sample:  184139.99682273561\n"
     ]
    }
   ],
   "source": [
    "tweedie_regressor(2,1)"
   ]
  },
  {
   "cell_type": "code",
   "execution_count": 76,
   "id": "9cd51b8a-fdbe-47eb-a776-3bc4eddf81ab",
   "metadata": {},
   "outputs": [
    {
     "data": {
      "text/html": [
       "<div>\n",
       "<style scoped>\n",
       "    .dataframe tbody tr th:only-of-type {\n",
       "        vertical-align: middle;\n",
       "    }\n",
       "\n",
       "    .dataframe tbody tr th {\n",
       "        vertical-align: top;\n",
       "    }\n",
       "\n",
       "    .dataframe thead th {\n",
       "        text-align: right;\n",
       "    }\n",
       "</style>\n",
       "<table border=\"1\" class=\"dataframe\">\n",
       "  <thead>\n",
       "    <tr style=\"text-align: right;\">\n",
       "      <th></th>\n",
       "      <th>model</th>\n",
       "      <th>RMSE_validate</th>\n",
       "      <th>r^2_validate</th>\n",
       "    </tr>\n",
       "  </thead>\n",
       "  <tbody>\n",
       "    <tr>\n",
       "      <th>0</th>\n",
       "      <td>median_baseline</td>\n",
       "      <td>183608.500703</td>\n",
       "      <td>0.000000</td>\n",
       "    </tr>\n",
       "    <tr>\n",
       "      <th>1</th>\n",
       "      <td>mean_baseline</td>\n",
       "      <td>183280.539570</td>\n",
       "      <td>0.000000</td>\n",
       "    </tr>\n",
       "    <tr>\n",
       "      <th>2</th>\n",
       "      <td>OLS Regressor</td>\n",
       "      <td>174258.347266</td>\n",
       "      <td>0.104487</td>\n",
       "    </tr>\n",
       "    <tr>\n",
       "      <th>3</th>\n",
       "      <td>validate_mean_baseline</td>\n",
       "      <td>184139.996823</td>\n",
       "      <td>0.000000</td>\n",
       "    </tr>\n",
       "    <tr>\n",
       "      <th>4</th>\n",
       "      <td>lasso_alpha_1</td>\n",
       "      <td>174260.488035</td>\n",
       "      <td>0.104466</td>\n",
       "    </tr>\n",
       "    <tr>\n",
       "      <th>5</th>\n",
       "      <td>lasso_alpha_2</td>\n",
       "      <td>174263.021220</td>\n",
       "      <td>0.104440</td>\n",
       "    </tr>\n",
       "    <tr>\n",
       "      <th>6</th>\n",
       "      <td>TweedieRegressor(p=1, a=0)</td>\n",
       "      <td>184139.996823</td>\n",
       "      <td>0.000000</td>\n",
       "    </tr>\n",
       "    <tr>\n",
       "      <th>7</th>\n",
       "      <td>TweedieRegressor(p=2, a=0)</td>\n",
       "      <td>184139.996823</td>\n",
       "      <td>0.000000</td>\n",
       "    </tr>\n",
       "    <tr>\n",
       "      <th>8</th>\n",
       "      <td>TweedieRegressor(p=1, a=1)</td>\n",
       "      <td>184139.996823</td>\n",
       "      <td>0.000000</td>\n",
       "    </tr>\n",
       "    <tr>\n",
       "      <th>9</th>\n",
       "      <td>TweedieRegressor(p=2, a=1)</td>\n",
       "      <td>184139.996823</td>\n",
       "      <td>0.000000</td>\n",
       "    </tr>\n",
       "  </tbody>\n",
       "</table>\n",
       "</div>"
      ],
      "text/plain": [
       "                        model  RMSE_validate  r^2_validate\n",
       "0             median_baseline  183608.500703      0.000000\n",
       "1               mean_baseline  183280.539570      0.000000\n",
       "2               OLS Regressor  174258.347266      0.104487\n",
       "3      validate_mean_baseline  184139.996823      0.000000\n",
       "4               lasso_alpha_1  174260.488035      0.104466\n",
       "5               lasso_alpha_2  174263.021220      0.104440\n",
       "6  TweedieRegressor(p=1, a=0)  184139.996823      0.000000\n",
       "7  TweedieRegressor(p=2, a=0)  184139.996823      0.000000\n",
       "8  TweedieRegressor(p=1, a=1)  184139.996823      0.000000\n",
       "9  TweedieRegressor(p=2, a=1)  184139.996823      0.000000"
      ]
     },
     "execution_count": 76,
     "metadata": {},
     "output_type": "execute_result"
    }
   ],
   "source": [
    "metric_df = make_metric_df(y_validate.taxvalue,\n",
    "               y_validate.taxvalue_pred_glm,\n",
    "               'TweedieRegressor(p=2, a=1)',\n",
    "               metric_df)\n",
    "metric_df"
   ]
  },
  {
   "cell_type": "code",
   "execution_count": 78,
   "id": "dd4a6972-a3c2-4f6f-ad50-815bcb9a7ac9",
   "metadata": {},
   "outputs": [],
   "source": [
    "# make the polynomial features to get a new set of features\n",
    "pf = PolynomialFeatures(degree=2)\n",
    "\n",
    "# fit and transform X_train_scaled\n",
    "X_train_degree2 = pf.fit_transform(X_train)\n",
    "\n",
    "# transform X_validate_scaled & X_test_scaled\n",
    "X_validate_degree2 = pf.transform(X_validate)"
   ]
  },
  {
   "cell_type": "code",
   "execution_count": 79,
   "id": "009d09f8-0c64-4402-9b76-e31ab363a5b2",
   "metadata": {},
   "outputs": [
    {
     "name": "stdout",
     "output_type": "stream",
     "text": [
      "RMSE for Polynomial Model, degrees=2\n",
      "Training/In-Sample:  173511.78370171433 \n",
      "Validation/Out-of-Sample:  173763.3774131582\n"
     ]
    }
   ],
   "source": [
    "# create the model object\n",
    "lm2 = LinearRegression(normalize=True)\n",
    "\n",
    "# fit the model to our training data. We must specify the column in y_train, \n",
    "# since we have converted it to a dataframe from a series! \n",
    "lm2.fit(X_train_degree2, y_train.taxvalue)\n",
    "\n",
    "# predict train\n",
    "y_train['taxvalue_pred_lm2'] = lm2.predict(X_train_degree2)\n",
    "\n",
    "# evaluate: rmse\n",
    "rmse_train = mean_squared_error(y_train.taxvalue, y_train.taxvalue_pred_lm2)**(1/2)\n",
    "\n",
    "# predict validate\n",
    "y_validate['taxvalue_pred_lm2'] = lm2.predict(X_validate_degree2)\n",
    "\n",
    "# evaluate: rmse\n",
    "rmse_validate = mean_squared_error(y_validate.taxvalue, y_validate.taxvalue_pred_lm2)**(1/2)\n",
    "\n",
    "print(\"RMSE for Polynomial Model, degrees=2\\nTraining/In-Sample: \", rmse_train, \n",
    "      \"\\nValidation/Out-of-Sample: \", rmse_validate)"
   ]
  },
  {
   "cell_type": "code",
   "execution_count": 80,
   "id": "848023f4-219b-4a64-970f-35a7ebe02471",
   "metadata": {},
   "outputs": [
    {
     "data": {
      "text/html": [
       "<div>\n",
       "<style scoped>\n",
       "    .dataframe tbody tr th:only-of-type {\n",
       "        vertical-align: middle;\n",
       "    }\n",
       "\n",
       "    .dataframe tbody tr th {\n",
       "        vertical-align: top;\n",
       "    }\n",
       "\n",
       "    .dataframe thead th {\n",
       "        text-align: right;\n",
       "    }\n",
       "</style>\n",
       "<table border=\"1\" class=\"dataframe\">\n",
       "  <thead>\n",
       "    <tr style=\"text-align: right;\">\n",
       "      <th></th>\n",
       "      <th>model</th>\n",
       "      <th>RMSE_validate</th>\n",
       "      <th>r^2_validate</th>\n",
       "    </tr>\n",
       "  </thead>\n",
       "  <tbody>\n",
       "    <tr>\n",
       "      <th>0</th>\n",
       "      <td>median_baseline</td>\n",
       "      <td>183608.500703</td>\n",
       "      <td>0.000000</td>\n",
       "    </tr>\n",
       "    <tr>\n",
       "      <th>1</th>\n",
       "      <td>mean_baseline</td>\n",
       "      <td>183280.539570</td>\n",
       "      <td>0.000000</td>\n",
       "    </tr>\n",
       "    <tr>\n",
       "      <th>2</th>\n",
       "      <td>OLS Regressor</td>\n",
       "      <td>174258.347266</td>\n",
       "      <td>0.104487</td>\n",
       "    </tr>\n",
       "    <tr>\n",
       "      <th>3</th>\n",
       "      <td>validate_mean_baseline</td>\n",
       "      <td>184139.996823</td>\n",
       "      <td>0.000000</td>\n",
       "    </tr>\n",
       "    <tr>\n",
       "      <th>4</th>\n",
       "      <td>lasso_alpha_1</td>\n",
       "      <td>174260.488035</td>\n",
       "      <td>0.104466</td>\n",
       "    </tr>\n",
       "    <tr>\n",
       "      <th>5</th>\n",
       "      <td>lasso_alpha_2</td>\n",
       "      <td>174263.021220</td>\n",
       "      <td>0.104440</td>\n",
       "    </tr>\n",
       "    <tr>\n",
       "      <th>6</th>\n",
       "      <td>TweedieRegressor(p=1, a=0)</td>\n",
       "      <td>184139.996823</td>\n",
       "      <td>0.000000</td>\n",
       "    </tr>\n",
       "    <tr>\n",
       "      <th>7</th>\n",
       "      <td>TweedieRegressor(p=2, a=0)</td>\n",
       "      <td>184139.996823</td>\n",
       "      <td>0.000000</td>\n",
       "    </tr>\n",
       "    <tr>\n",
       "      <th>8</th>\n",
       "      <td>TweedieRegressor(p=1, a=1)</td>\n",
       "      <td>184139.996823</td>\n",
       "      <td>0.000000</td>\n",
       "    </tr>\n",
       "    <tr>\n",
       "      <th>9</th>\n",
       "      <td>TweedieRegressor(p=2, a=1)</td>\n",
       "      <td>184139.996823</td>\n",
       "      <td>0.000000</td>\n",
       "    </tr>\n",
       "    <tr>\n",
       "      <th>10</th>\n",
       "      <td>Polynomiald2</td>\n",
       "      <td>173763.377413</td>\n",
       "      <td>0.109562</td>\n",
       "    </tr>\n",
       "  </tbody>\n",
       "</table>\n",
       "</div>"
      ],
      "text/plain": [
       "                         model  RMSE_validate  r^2_validate\n",
       "0              median_baseline  183608.500703      0.000000\n",
       "1                mean_baseline  183280.539570      0.000000\n",
       "2                OLS Regressor  174258.347266      0.104487\n",
       "3       validate_mean_baseline  184139.996823      0.000000\n",
       "4                lasso_alpha_1  174260.488035      0.104466\n",
       "5                lasso_alpha_2  174263.021220      0.104440\n",
       "6   TweedieRegressor(p=1, a=0)  184139.996823      0.000000\n",
       "7   TweedieRegressor(p=2, a=0)  184139.996823      0.000000\n",
       "8   TweedieRegressor(p=1, a=1)  184139.996823      0.000000\n",
       "9   TweedieRegressor(p=2, a=1)  184139.996823      0.000000\n",
       "10                Polynomiald2  173763.377413      0.109562"
      ]
     },
     "execution_count": 80,
     "metadata": {},
     "output_type": "execute_result"
    }
   ],
   "source": [
    "metric_df = make_metric_df(y_validate.taxvalue,\n",
    "               y_validate.taxvalue_pred_lm2,\n",
    "               'Polynomiald2',\n",
    "               metric_df)\n",
    "metric_df"
   ]
  },
  {
   "cell_type": "code",
   "execution_count": 81,
   "id": "d480c492-24e9-4c80-9110-1e168d8864fe",
   "metadata": {},
   "outputs": [],
   "source": [
    "# make the polynomial features to get a new set of features\n",
    "pf = PolynomialFeatures(degree=3)\n",
    "\n",
    "# fit and transform X_train_scaled\n",
    "X_train_degree3 = pf.fit_transform(X_train)\n",
    "\n",
    "# transform X_validate_scaled & X_test_scaled\n",
    "X_validate_degree3 = pf.transform(X_validate)"
   ]
  },
  {
   "cell_type": "code",
   "execution_count": 82,
   "id": "c3457bc3-2a87-4d0a-a807-37b6735ad92e",
   "metadata": {},
   "outputs": [
    {
     "name": "stdout",
     "output_type": "stream",
     "text": [
      "RMSE for Polynomial Model, degrees=3\n",
      "Training/In-Sample:  173187.98742495655 \n",
      "Validation/Out-of-Sample:  173325.12334838597\n"
     ]
    }
   ],
   "source": [
    "# create the model object\n",
    "lm3 = LinearRegression(normalize=True)\n",
    "\n",
    "# fit the model to our training data. We must specify the column in y_train, \n",
    "# since we have converted it to a dataframe from a series! \n",
    "lm3.fit(X_train_degree3, y_train.taxvalue)\n",
    "\n",
    "# predict train\n",
    "y_train['taxvalue_pred_lm3'] = lm3.predict(X_train_degree3)\n",
    "\n",
    "# evaluate: rmse\n",
    "rmse_train = mean_squared_error(y_train.taxvalue, y_train.taxvalue_pred_lm3)**(1/2)\n",
    "\n",
    "# predict validate\n",
    "y_validate['taxvalue_pred_lm3'] = lm3.predict(X_validate_degree3)\n",
    "\n",
    "# evaluate: rmse\n",
    "rmse_validate = mean_squared_error(y_validate.taxvalue, y_validate.taxvalue_pred_lm3)**(1/2)\n",
    "\n",
    "print(\"RMSE for Polynomial Model, degrees=3\\nTraining/In-Sample: \", rmse_train, \n",
    "      \"\\nValidation/Out-of-Sample: \", rmse_validate)"
   ]
  },
  {
   "cell_type": "code",
   "execution_count": 83,
   "id": "7a9fc781-a33f-48dd-b041-78e40e8c6bd8",
   "metadata": {},
   "outputs": [
    {
     "data": {
      "text/html": [
       "<div>\n",
       "<style scoped>\n",
       "    .dataframe tbody tr th:only-of-type {\n",
       "        vertical-align: middle;\n",
       "    }\n",
       "\n",
       "    .dataframe tbody tr th {\n",
       "        vertical-align: top;\n",
       "    }\n",
       "\n",
       "    .dataframe thead th {\n",
       "        text-align: right;\n",
       "    }\n",
       "</style>\n",
       "<table border=\"1\" class=\"dataframe\">\n",
       "  <thead>\n",
       "    <tr style=\"text-align: right;\">\n",
       "      <th></th>\n",
       "      <th>model</th>\n",
       "      <th>RMSE_validate</th>\n",
       "      <th>r^2_validate</th>\n",
       "    </tr>\n",
       "  </thead>\n",
       "  <tbody>\n",
       "    <tr>\n",
       "      <th>0</th>\n",
       "      <td>median_baseline</td>\n",
       "      <td>183608.500703</td>\n",
       "      <td>0.000000</td>\n",
       "    </tr>\n",
       "    <tr>\n",
       "      <th>1</th>\n",
       "      <td>mean_baseline</td>\n",
       "      <td>183280.539570</td>\n",
       "      <td>0.000000</td>\n",
       "    </tr>\n",
       "    <tr>\n",
       "      <th>2</th>\n",
       "      <td>OLS Regressor</td>\n",
       "      <td>174258.347266</td>\n",
       "      <td>0.104487</td>\n",
       "    </tr>\n",
       "    <tr>\n",
       "      <th>3</th>\n",
       "      <td>validate_mean_baseline</td>\n",
       "      <td>184139.996823</td>\n",
       "      <td>0.000000</td>\n",
       "    </tr>\n",
       "    <tr>\n",
       "      <th>4</th>\n",
       "      <td>lasso_alpha_1</td>\n",
       "      <td>174260.488035</td>\n",
       "      <td>0.104466</td>\n",
       "    </tr>\n",
       "    <tr>\n",
       "      <th>5</th>\n",
       "      <td>lasso_alpha_2</td>\n",
       "      <td>174263.021220</td>\n",
       "      <td>0.104440</td>\n",
       "    </tr>\n",
       "    <tr>\n",
       "      <th>6</th>\n",
       "      <td>TweedieRegressor(p=1, a=0)</td>\n",
       "      <td>184139.996823</td>\n",
       "      <td>0.000000</td>\n",
       "    </tr>\n",
       "    <tr>\n",
       "      <th>7</th>\n",
       "      <td>TweedieRegressor(p=2, a=0)</td>\n",
       "      <td>184139.996823</td>\n",
       "      <td>0.000000</td>\n",
       "    </tr>\n",
       "    <tr>\n",
       "      <th>8</th>\n",
       "      <td>TweedieRegressor(p=1, a=1)</td>\n",
       "      <td>184139.996823</td>\n",
       "      <td>0.000000</td>\n",
       "    </tr>\n",
       "    <tr>\n",
       "      <th>9</th>\n",
       "      <td>TweedieRegressor(p=2, a=1)</td>\n",
       "      <td>184139.996823</td>\n",
       "      <td>0.000000</td>\n",
       "    </tr>\n",
       "    <tr>\n",
       "      <th>10</th>\n",
       "      <td>Polynomiald2</td>\n",
       "      <td>173763.377413</td>\n",
       "      <td>0.109562</td>\n",
       "    </tr>\n",
       "    <tr>\n",
       "      <th>11</th>\n",
       "      <td>Polynomiald3</td>\n",
       "      <td>173325.123348</td>\n",
       "      <td>0.114008</td>\n",
       "    </tr>\n",
       "  </tbody>\n",
       "</table>\n",
       "</div>"
      ],
      "text/plain": [
       "                         model  RMSE_validate  r^2_validate\n",
       "0              median_baseline  183608.500703      0.000000\n",
       "1                mean_baseline  183280.539570      0.000000\n",
       "2                OLS Regressor  174258.347266      0.104487\n",
       "3       validate_mean_baseline  184139.996823      0.000000\n",
       "4                lasso_alpha_1  174260.488035      0.104466\n",
       "5                lasso_alpha_2  174263.021220      0.104440\n",
       "6   TweedieRegressor(p=1, a=0)  184139.996823      0.000000\n",
       "7   TweedieRegressor(p=2, a=0)  184139.996823      0.000000\n",
       "8   TweedieRegressor(p=1, a=1)  184139.996823      0.000000\n",
       "9   TweedieRegressor(p=2, a=1)  184139.996823      0.000000\n",
       "10                Polynomiald2  173763.377413      0.109562\n",
       "11                Polynomiald3  173325.123348      0.114008"
      ]
     },
     "execution_count": 83,
     "metadata": {},
     "output_type": "execute_result"
    }
   ],
   "source": [
    "metric_df = make_metric_df(y_validate.taxvalue,\n",
    "               y_validate.taxvalue_pred_lm3,\n",
    "               'Polynomiald3',\n",
    "               metric_df)\n",
    "metric_df"
   ]
  },
  {
   "cell_type": "code",
   "execution_count": 84,
   "id": "86c02813-b973-4b20-8a7c-dc908ce6e0e2",
   "metadata": {},
   "outputs": [],
   "source": [
    "# make the polynomial features to get a new set of features\n",
    "pf = PolynomialFeatures(degree=4)\n",
    "\n",
    "# fit and transform X_train_scaled\n",
    "X_train_degree4 = pf.fit_transform(X_train)\n",
    "\n",
    "# transform X_validate_scaled & X_test_scaled\n",
    "X_validate_degree4 = pf.transform(X_validate)"
   ]
  },
  {
   "cell_type": "code",
   "execution_count": 86,
   "id": "cbf66a04-7b6f-4dd5-93bd-b5f82dfceafb",
   "metadata": {},
   "outputs": [
    {
     "name": "stdout",
     "output_type": "stream",
     "text": [
      "RMSE for Polynomial Model, degrees=4\n",
      "Training/In-Sample:  171925.34900748843 \n",
      "Validation/Out-of-Sample:  172322.95757125653\n"
     ]
    }
   ],
   "source": [
    "# create the model object\n",
    "lm4 = LinearRegression(normalize=True)\n",
    "\n",
    "# fit the model to our training data. We must specify the column in y_train, \n",
    "# since we have converted it to a dataframe from a series! \n",
    "lm4.fit(X_train_degree4, y_train.taxvalue)\n",
    "\n",
    "# predict train\n",
    "y_train['taxvalue_pred_lm4'] = lm4.predict(X_train_degree4)\n",
    "\n",
    "# evaluate: rmse\n",
    "rmse_train = mean_squared_error(y_train.taxvalue, y_train.taxvalue_pred_lm4)**(1/2)\n",
    "\n",
    "# predict validate\n",
    "y_validate['taxvalue_pred_lm4'] = lm4.predict(X_validate_degree4)\n",
    "\n",
    "# evaluate: rmse\n",
    "rmse_validate = mean_squared_error(y_validate.taxvalue, y_validate.taxvalue_pred_lm4)**(1/2)\n",
    "\n",
    "print(\"RMSE for Polynomial Model, degrees=4\\nTraining/In-Sample: \", rmse_train, \n",
    "      \"\\nValidation/Out-of-Sample: \", rmse_validate)"
   ]
  },
  {
   "cell_type": "code",
   "execution_count": 87,
   "id": "8962f87a-c91c-44a7-a725-be8a62eafce2",
   "metadata": {},
   "outputs": [
    {
     "data": {
      "text/html": [
       "<div>\n",
       "<style scoped>\n",
       "    .dataframe tbody tr th:only-of-type {\n",
       "        vertical-align: middle;\n",
       "    }\n",
       "\n",
       "    .dataframe tbody tr th {\n",
       "        vertical-align: top;\n",
       "    }\n",
       "\n",
       "    .dataframe thead th {\n",
       "        text-align: right;\n",
       "    }\n",
       "</style>\n",
       "<table border=\"1\" class=\"dataframe\">\n",
       "  <thead>\n",
       "    <tr style=\"text-align: right;\">\n",
       "      <th></th>\n",
       "      <th>model</th>\n",
       "      <th>RMSE_validate</th>\n",
       "      <th>r^2_validate</th>\n",
       "    </tr>\n",
       "  </thead>\n",
       "  <tbody>\n",
       "    <tr>\n",
       "      <th>0</th>\n",
       "      <td>median_baseline</td>\n",
       "      <td>183608.500703</td>\n",
       "      <td>0.000000</td>\n",
       "    </tr>\n",
       "    <tr>\n",
       "      <th>1</th>\n",
       "      <td>mean_baseline</td>\n",
       "      <td>183280.539570</td>\n",
       "      <td>0.000000</td>\n",
       "    </tr>\n",
       "    <tr>\n",
       "      <th>2</th>\n",
       "      <td>OLS Regressor</td>\n",
       "      <td>174258.347266</td>\n",
       "      <td>0.104487</td>\n",
       "    </tr>\n",
       "    <tr>\n",
       "      <th>3</th>\n",
       "      <td>validate_mean_baseline</td>\n",
       "      <td>184139.996823</td>\n",
       "      <td>0.000000</td>\n",
       "    </tr>\n",
       "    <tr>\n",
       "      <th>4</th>\n",
       "      <td>lasso_alpha_1</td>\n",
       "      <td>174260.488035</td>\n",
       "      <td>0.104466</td>\n",
       "    </tr>\n",
       "    <tr>\n",
       "      <th>5</th>\n",
       "      <td>lasso_alpha_2</td>\n",
       "      <td>174263.021220</td>\n",
       "      <td>0.104440</td>\n",
       "    </tr>\n",
       "    <tr>\n",
       "      <th>6</th>\n",
       "      <td>TweedieRegressor(p=1, a=0)</td>\n",
       "      <td>184139.996823</td>\n",
       "      <td>0.000000</td>\n",
       "    </tr>\n",
       "    <tr>\n",
       "      <th>7</th>\n",
       "      <td>TweedieRegressor(p=2, a=0)</td>\n",
       "      <td>184139.996823</td>\n",
       "      <td>0.000000</td>\n",
       "    </tr>\n",
       "    <tr>\n",
       "      <th>8</th>\n",
       "      <td>TweedieRegressor(p=1, a=1)</td>\n",
       "      <td>184139.996823</td>\n",
       "      <td>0.000000</td>\n",
       "    </tr>\n",
       "    <tr>\n",
       "      <th>9</th>\n",
       "      <td>TweedieRegressor(p=2, a=1)</td>\n",
       "      <td>184139.996823</td>\n",
       "      <td>0.000000</td>\n",
       "    </tr>\n",
       "    <tr>\n",
       "      <th>10</th>\n",
       "      <td>Polynomiald2</td>\n",
       "      <td>173763.377413</td>\n",
       "      <td>0.109562</td>\n",
       "    </tr>\n",
       "    <tr>\n",
       "      <th>11</th>\n",
       "      <td>Polynomiald3</td>\n",
       "      <td>173325.123348</td>\n",
       "      <td>0.114008</td>\n",
       "    </tr>\n",
       "    <tr>\n",
       "      <th>12</th>\n",
       "      <td>Polynomiald4</td>\n",
       "      <td>172322.957571</td>\n",
       "      <td>0.124205</td>\n",
       "    </tr>\n",
       "  </tbody>\n",
       "</table>\n",
       "</div>"
      ],
      "text/plain": [
       "                         model  RMSE_validate  r^2_validate\n",
       "0              median_baseline  183608.500703      0.000000\n",
       "1                mean_baseline  183280.539570      0.000000\n",
       "2                OLS Regressor  174258.347266      0.104487\n",
       "3       validate_mean_baseline  184139.996823      0.000000\n",
       "4                lasso_alpha_1  174260.488035      0.104466\n",
       "5                lasso_alpha_2  174263.021220      0.104440\n",
       "6   TweedieRegressor(p=1, a=0)  184139.996823      0.000000\n",
       "7   TweedieRegressor(p=2, a=0)  184139.996823      0.000000\n",
       "8   TweedieRegressor(p=1, a=1)  184139.996823      0.000000\n",
       "9   TweedieRegressor(p=2, a=1)  184139.996823      0.000000\n",
       "10                Polynomiald2  173763.377413      0.109562\n",
       "11                Polynomiald3  173325.123348      0.114008\n",
       "12                Polynomiald4  172322.957571      0.124205"
      ]
     },
     "execution_count": 87,
     "metadata": {},
     "output_type": "execute_result"
    }
   ],
   "source": [
    "metric_df = make_metric_df(y_validate.taxvalue,\n",
    "               y_validate.taxvalue_pred_lm4,\n",
    "               'Polynomiald4',\n",
    "               metric_df)\n",
    "metric_df"
   ]
  },
  {
   "cell_type": "code",
   "execution_count": 88,
   "id": "922117cf-20ea-41d3-ac8f-f4ee16f634b6",
   "metadata": {},
   "outputs": [],
   "source": [
    "# make the polynomial features to get a new set of features\n",
    "pf = PolynomialFeatures(degree=10)\n",
    "\n",
    "# fit and transform X_train_scaled\n",
    "X_train_degree10 = pf.fit_transform(X_train)\n",
    "\n",
    "# transform X_validate_scaled & X_test_scaled\n",
    "X_validate_degree10 = pf.transform(X_validate)"
   ]
  },
  {
   "cell_type": "code",
   "execution_count": 90,
   "id": "0b06530f-5543-4227-a0da-0d04337f4127",
   "metadata": {},
   "outputs": [
    {
     "name": "stdout",
     "output_type": "stream",
     "text": [
      "RMSE for Polynomial Model, degrees=10\n",
      "Training/In-Sample:  170715.51772862548 \n",
      "Validation/Out-of-Sample:  23134926.12107603\n"
     ]
    }
   ],
   "source": [
    "# create the model object\n",
    "lm10 = LinearRegression(normalize=True)\n",
    "\n",
    "# fit the model to our training data. We must specify the column in y_train, \n",
    "# since we have converted it to a dataframe from a series! \n",
    "lm10.fit(X_train_degree10, y_train.taxvalue)\n",
    "\n",
    "# predict train\n",
    "y_train['taxvalue_pred_lm10'] = lm10.predict(X_train_degree10)\n",
    "\n",
    "# evaluate: rmse\n",
    "rmse_train = mean_squared_error(y_train.taxvalue, y_train.taxvalue_pred_lm10)**(1/2)\n",
    "\n",
    "# predict validate\n",
    "y_validate['taxvalue_pred_lm10'] = lm10.predict(X_validate_degree10)\n",
    "\n",
    "# evaluate: rmse\n",
    "rmse_validate = mean_squared_error(y_validate.taxvalue, y_validate.taxvalue_pred_lm10)**(1/2)\n",
    "\n",
    "print(\"RMSE for Polynomial Model, degrees=10\\nTraining/In-Sample: \", rmse_train, \n",
    "      \"\\nValidation/Out-of-Sample: \", rmse_validate)"
   ]
  },
  {
   "cell_type": "code",
   "execution_count": 92,
   "id": "4c151977-d38e-4771-8959-e59717052437",
   "metadata": {},
   "outputs": [
    {
     "data": {
      "text/html": [
       "<div>\n",
       "<style scoped>\n",
       "    .dataframe tbody tr th:only-of-type {\n",
       "        vertical-align: middle;\n",
       "    }\n",
       "\n",
       "    .dataframe tbody tr th {\n",
       "        vertical-align: top;\n",
       "    }\n",
       "\n",
       "    .dataframe thead th {\n",
       "        text-align: right;\n",
       "    }\n",
       "</style>\n",
       "<table border=\"1\" class=\"dataframe\">\n",
       "  <thead>\n",
       "    <tr style=\"text-align: right;\">\n",
       "      <th></th>\n",
       "      <th>model</th>\n",
       "      <th>RMSE_validate</th>\n",
       "      <th>r^2_validate</th>\n",
       "    </tr>\n",
       "  </thead>\n",
       "  <tbody>\n",
       "    <tr>\n",
       "      <th>0</th>\n",
       "      <td>median_baseline</td>\n",
       "      <td>1.836085e+05</td>\n",
       "      <td>0.000000</td>\n",
       "    </tr>\n",
       "    <tr>\n",
       "      <th>1</th>\n",
       "      <td>mean_baseline</td>\n",
       "      <td>1.832805e+05</td>\n",
       "      <td>0.000000</td>\n",
       "    </tr>\n",
       "    <tr>\n",
       "      <th>2</th>\n",
       "      <td>OLS Regressor</td>\n",
       "      <td>1.742583e+05</td>\n",
       "      <td>0.104487</td>\n",
       "    </tr>\n",
       "    <tr>\n",
       "      <th>3</th>\n",
       "      <td>validate_mean_baseline</td>\n",
       "      <td>1.841400e+05</td>\n",
       "      <td>0.000000</td>\n",
       "    </tr>\n",
       "    <tr>\n",
       "      <th>4</th>\n",
       "      <td>lasso_alpha_1</td>\n",
       "      <td>1.742605e+05</td>\n",
       "      <td>0.104466</td>\n",
       "    </tr>\n",
       "    <tr>\n",
       "      <th>5</th>\n",
       "      <td>lasso_alpha_2</td>\n",
       "      <td>1.742630e+05</td>\n",
       "      <td>0.104440</td>\n",
       "    </tr>\n",
       "    <tr>\n",
       "      <th>6</th>\n",
       "      <td>TweedieRegressor(p=1, a=0)</td>\n",
       "      <td>1.841400e+05</td>\n",
       "      <td>0.000000</td>\n",
       "    </tr>\n",
       "    <tr>\n",
       "      <th>7</th>\n",
       "      <td>TweedieRegressor(p=2, a=0)</td>\n",
       "      <td>1.841400e+05</td>\n",
       "      <td>0.000000</td>\n",
       "    </tr>\n",
       "    <tr>\n",
       "      <th>8</th>\n",
       "      <td>TweedieRegressor(p=1, a=1)</td>\n",
       "      <td>1.841400e+05</td>\n",
       "      <td>0.000000</td>\n",
       "    </tr>\n",
       "    <tr>\n",
       "      <th>9</th>\n",
       "      <td>TweedieRegressor(p=2, a=1)</td>\n",
       "      <td>1.841400e+05</td>\n",
       "      <td>0.000000</td>\n",
       "    </tr>\n",
       "    <tr>\n",
       "      <th>10</th>\n",
       "      <td>Polynomiald2</td>\n",
       "      <td>1.737634e+05</td>\n",
       "      <td>0.109562</td>\n",
       "    </tr>\n",
       "    <tr>\n",
       "      <th>11</th>\n",
       "      <td>Polynomiald3</td>\n",
       "      <td>1.733251e+05</td>\n",
       "      <td>0.114008</td>\n",
       "    </tr>\n",
       "    <tr>\n",
       "      <th>12</th>\n",
       "      <td>Polynomiald4</td>\n",
       "      <td>1.723230e+05</td>\n",
       "      <td>0.124205</td>\n",
       "    </tr>\n",
       "    <tr>\n",
       "      <th>13</th>\n",
       "      <td>Polynomiald4</td>\n",
       "      <td>1.723230e+05</td>\n",
       "      <td>0.124205</td>\n",
       "    </tr>\n",
       "    <tr>\n",
       "      <th>14</th>\n",
       "      <td>Polynomiald10</td>\n",
       "      <td>2.313493e+07</td>\n",
       "      <td>-15786.437387</td>\n",
       "    </tr>\n",
       "  </tbody>\n",
       "</table>\n",
       "</div>"
      ],
      "text/plain": [
       "                         model  RMSE_validate  r^2_validate\n",
       "0              median_baseline   1.836085e+05      0.000000\n",
       "1                mean_baseline   1.832805e+05      0.000000\n",
       "2                OLS Regressor   1.742583e+05      0.104487\n",
       "3       validate_mean_baseline   1.841400e+05      0.000000\n",
       "4                lasso_alpha_1   1.742605e+05      0.104466\n",
       "5                lasso_alpha_2   1.742630e+05      0.104440\n",
       "6   TweedieRegressor(p=1, a=0)   1.841400e+05      0.000000\n",
       "7   TweedieRegressor(p=2, a=0)   1.841400e+05      0.000000\n",
       "8   TweedieRegressor(p=1, a=1)   1.841400e+05      0.000000\n",
       "9   TweedieRegressor(p=2, a=1)   1.841400e+05      0.000000\n",
       "10                Polynomiald2   1.737634e+05      0.109562\n",
       "11                Polynomiald3   1.733251e+05      0.114008\n",
       "12                Polynomiald4   1.723230e+05      0.124205\n",
       "13                Polynomiald4   1.723230e+05      0.124205\n",
       "14               Polynomiald10   2.313493e+07 -15786.437387"
      ]
     },
     "execution_count": 92,
     "metadata": {},
     "output_type": "execute_result"
    }
   ],
   "source": [
    "metric_df = make_metric_df(y_validate.taxvalue,\n",
    "               y_validate.taxvalue_pred_lm10,\n",
    "               'Polynomiald10',\n",
    "               metric_df)\n",
    "metric_df"
   ]
  },
  {
   "cell_type": "markdown",
   "id": "21b494ae-85e6-4fcb-b211-52be4ba7561a",
   "metadata": {},
   "source": [
    "You will need to figure out which field gives you the annual tax amount for the property in order to calculate the tax rate. Using the property's assessed value (taxvaluedollarcnt) and the amount they pay each year (<field name>) to compute tax rate."
   ]
  },
  {
   "cell_type": "code",
   "execution_count": 93,
   "id": "f4382b08-1b1c-4331-958e-d4fc287b7865",
   "metadata": {},
   "outputs": [
    {
     "data": {
      "text/html": [
       "<div>\n",
       "<style scoped>\n",
       "    .dataframe tbody tr th:only-of-type {\n",
       "        vertical-align: middle;\n",
       "    }\n",
       "\n",
       "    .dataframe tbody tr th {\n",
       "        vertical-align: top;\n",
       "    }\n",
       "\n",
       "    .dataframe thead th {\n",
       "        text-align: right;\n",
       "    }\n",
       "</style>\n",
       "<table border=\"1\" class=\"dataframe\">\n",
       "  <thead>\n",
       "    <tr style=\"text-align: right;\">\n",
       "      <th></th>\n",
       "      <th>yearbuilt</th>\n",
       "      <th>taxamount</th>\n",
       "      <th>fips</th>\n",
       "      <th>area</th>\n",
       "      <th>bed</th>\n",
       "      <th>bath</th>\n",
       "      <th>taxvalue</th>\n",
       "      <th>tdate_month</th>\n",
       "      <th>tdate_day</th>\n",
       "      <th>tdate_week</th>\n",
       "      <th>county</th>\n",
       "    </tr>\n",
       "  </thead>\n",
       "  <tbody>\n",
       "    <tr>\n",
       "      <th>578</th>\n",
       "      <td>1974.0</td>\n",
       "      <td>3490.16</td>\n",
       "      <td>6059.0</td>\n",
       "      <td>1125.0</td>\n",
       "      <td>3.0</td>\n",
       "      <td>2.0</td>\n",
       "      <td>289445.0</td>\n",
       "      <td>8</td>\n",
       "      <td>4</td>\n",
       "      <td>31</td>\n",
       "      <td>Orange</td>\n",
       "    </tr>\n",
       "    <tr>\n",
       "      <th>950</th>\n",
       "      <td>1923.0</td>\n",
       "      <td>2627.48</td>\n",
       "      <td>6037.0</td>\n",
       "      <td>1316.0</td>\n",
       "      <td>3.0</td>\n",
       "      <td>2.0</td>\n",
       "      <td>205123.0</td>\n",
       "      <td>7</td>\n",
       "      <td>21</td>\n",
       "      <td>29</td>\n",
       "      <td>Los Angeles</td>\n",
       "    </tr>\n",
       "    <tr>\n",
       "      <th>1163</th>\n",
       "      <td>1970.0</td>\n",
       "      <td>2319.90</td>\n",
       "      <td>6037.0</td>\n",
       "      <td>1458.0</td>\n",
       "      <td>3.0</td>\n",
       "      <td>2.0</td>\n",
       "      <td>136104.0</td>\n",
       "      <td>6</td>\n",
       "      <td>23</td>\n",
       "      <td>25</td>\n",
       "      <td>Los Angeles</td>\n",
       "    </tr>\n",
       "    <tr>\n",
       "      <th>2494</th>\n",
       "      <td>1955.0</td>\n",
       "      <td>1399.27</td>\n",
       "      <td>6037.0</td>\n",
       "      <td>1491.0</td>\n",
       "      <td>3.0</td>\n",
       "      <td>2.0</td>\n",
       "      <td>107110.0</td>\n",
       "      <td>8</td>\n",
       "      <td>23</td>\n",
       "      <td>34</td>\n",
       "      <td>Los Angeles</td>\n",
       "    </tr>\n",
       "    <tr>\n",
       "      <th>3051</th>\n",
       "      <td>1949.0</td>\n",
       "      <td>7673.19</td>\n",
       "      <td>6037.0</td>\n",
       "      <td>1650.0</td>\n",
       "      <td>3.0</td>\n",
       "      <td>2.0</td>\n",
       "      <td>614000.0</td>\n",
       "      <td>6</td>\n",
       "      <td>1</td>\n",
       "      <td>22</td>\n",
       "      <td>Los Angeles</td>\n",
       "    </tr>\n",
       "  </tbody>\n",
       "</table>\n",
       "</div>"
      ],
      "text/plain": [
       "      yearbuilt  taxamount    fips    area  bed  bath  taxvalue  tdate_month  \\\n",
       "578      1974.0    3490.16  6059.0  1125.0  3.0   2.0  289445.0            8   \n",
       "950      1923.0    2627.48  6037.0  1316.0  3.0   2.0  205123.0            7   \n",
       "1163     1970.0    2319.90  6037.0  1458.0  3.0   2.0  136104.0            6   \n",
       "2494     1955.0    1399.27  6037.0  1491.0  3.0   2.0  107110.0            8   \n",
       "3051     1949.0    7673.19  6037.0  1650.0  3.0   2.0  614000.0            6   \n",
       "\n",
       "      tdate_day  tdate_week       county  \n",
       "578           4          31       Orange  \n",
       "950          21          29  Los Angeles  \n",
       "1163         23          25  Los Angeles  \n",
       "2494         23          34  Los Angeles  \n",
       "3051          1          22  Los Angeles  "
      ]
     },
     "execution_count": 93,
     "metadata": {},
     "output_type": "execute_result"
    }
   ],
   "source": [
    "df.head()"
   ]
  },
  {
   "cell_type": "code",
   "execution_count": 95,
   "id": "c38c2b4d-f0b8-4047-b3f0-a1ff3dd3c13f",
   "metadata": {},
   "outputs": [],
   "source": [
    "df[\"taxrate\"] = df.taxamount / df.taxvalue"
   ]
  },
  {
   "cell_type": "code",
   "execution_count": 99,
   "id": "f73070e2-4551-413d-ba39-1ad5d532c7fc",
   "metadata": {},
   "outputs": [
    {
     "data": {
      "text/plain": [
       "count    24465.000000\n",
       "mean         0.012961\n",
       "std          0.003215\n",
       "min          0.000787\n",
       "25%          0.011592\n",
       "50%          0.012272\n",
       "75%          0.013411\n",
       "max          0.142742\n",
       "Name: taxrate, dtype: float64"
      ]
     },
     "execution_count": 99,
     "metadata": {},
     "output_type": "execute_result"
    }
   ],
   "source": [
    "df.taxrate.describe()"
   ]
  },
  {
   "cell_type": "code",
   "execution_count": 100,
   "id": "1325d8a4-5585-4359-81d3-de9eabbe90f2",
   "metadata": {},
   "outputs": [
    {
     "data": {
      "text/plain": [
       "county\n",
       "Los Angeles    0.013680\n",
       "Orange         0.012025\n",
       "Ventura        0.011686\n",
       "Name: taxrate, dtype: float64"
      ]
     },
     "execution_count": 100,
     "metadata": {},
     "output_type": "execute_result"
    }
   ],
   "source": [
    "df.groupby('county').taxrate.mean()"
   ]
  },
  {
   "cell_type": "code",
   "execution_count": 101,
   "id": "88505df1-c255-4468-8113-cbc7b2bc21af",
   "metadata": {},
   "outputs": [
    {
     "data": {
      "text/plain": [
       "county\n",
       "Los Angeles    0.012585\n",
       "Orange         0.011636\n",
       "Ventura        0.011293\n",
       "Name: taxrate, dtype: float64"
      ]
     },
     "execution_count": 101,
     "metadata": {},
     "output_type": "execute_result"
    }
   ],
   "source": [
    "df.groupby('county').taxrate.median()"
   ]
  },
  {
   "cell_type": "code",
   "execution_count": 104,
   "id": "af605e52-d209-465c-bd80-7965cd1d0e4a",
   "metadata": {},
   "outputs": [
    {
     "data": {
      "text/html": [
       "<div>\n",
       "<style scoped>\n",
       "    .dataframe tbody tr th:only-of-type {\n",
       "        vertical-align: middle;\n",
       "    }\n",
       "\n",
       "    .dataframe tbody tr th {\n",
       "        vertical-align: top;\n",
       "    }\n",
       "\n",
       "    .dataframe thead th {\n",
       "        text-align: right;\n",
       "    }\n",
       "</style>\n",
       "<table border=\"1\" class=\"dataframe\">\n",
       "  <thead>\n",
       "    <tr style=\"text-align: right;\">\n",
       "      <th></th>\n",
       "      <th>count</th>\n",
       "      <th>mean</th>\n",
       "      <th>std</th>\n",
       "      <th>min</th>\n",
       "      <th>25%</th>\n",
       "      <th>50%</th>\n",
       "      <th>75%</th>\n",
       "      <th>max</th>\n",
       "    </tr>\n",
       "    <tr>\n",
       "      <th>county</th>\n",
       "      <th></th>\n",
       "      <th></th>\n",
       "      <th></th>\n",
       "      <th></th>\n",
       "      <th></th>\n",
       "      <th></th>\n",
       "      <th></th>\n",
       "      <th></th>\n",
       "    </tr>\n",
       "  </thead>\n",
       "  <tbody>\n",
       "    <tr>\n",
       "      <th>Los Angeles</th>\n",
       "      <td>14349.0</td>\n",
       "      <td>0.013680</td>\n",
       "      <td>0.003479</td>\n",
       "      <td>0.000857</td>\n",
       "      <td>0.012142</td>\n",
       "      <td>0.012585</td>\n",
       "      <td>0.014037</td>\n",
       "      <td>0.142742</td>\n",
       "    </tr>\n",
       "    <tr>\n",
       "      <th>Orange</th>\n",
       "      <td>7643.0</td>\n",
       "      <td>0.012025</td>\n",
       "      <td>0.002493</td>\n",
       "      <td>0.001449</td>\n",
       "      <td>0.010450</td>\n",
       "      <td>0.011636</td>\n",
       "      <td>0.012604</td>\n",
       "      <td>0.107350</td>\n",
       "    </tr>\n",
       "    <tr>\n",
       "      <th>Ventura</th>\n",
       "      <td>2473.0</td>\n",
       "      <td>0.011686</td>\n",
       "      <td>0.002351</td>\n",
       "      <td>0.000787</td>\n",
       "      <td>0.010701</td>\n",
       "      <td>0.011293</td>\n",
       "      <td>0.011878</td>\n",
       "      <td>0.062454</td>\n",
       "    </tr>\n",
       "  </tbody>\n",
       "</table>\n",
       "</div>"
      ],
      "text/plain": [
       "               count      mean       std       min       25%       50%  \\\n",
       "county                                                                   \n",
       "Los Angeles  14349.0  0.013680  0.003479  0.000857  0.012142  0.012585   \n",
       "Orange        7643.0  0.012025  0.002493  0.001449  0.010450  0.011636   \n",
       "Ventura       2473.0  0.011686  0.002351  0.000787  0.010701  0.011293   \n",
       "\n",
       "                  75%       max  \n",
       "county                           \n",
       "Los Angeles  0.014037  0.142742  \n",
       "Orange       0.012604  0.107350  \n",
       "Ventura      0.011878  0.062454  "
      ]
     },
     "execution_count": 104,
     "metadata": {},
     "output_type": "execute_result"
    }
   ],
   "source": [
    "df.groupby('county').taxrate.describe()"
   ]
  },
  {
   "cell_type": "code",
   "execution_count": 111,
   "id": "7d11a1c4-38a2-4c26-ae93-f7cc4966ca6c",
   "metadata": {},
   "outputs": [
    {
     "data": {
      "image/png": "[encoded data removed]",
      "text/plain": [
       "<Figure size 1152x576 with 1 Axes>"
      ]
     },
     "metadata": {
      "needs_background": "light"
     },
     "output_type": "display_data"
    }
   ],
   "source": [
    "# y_validate.head()\n",
    "y_validate_sample = y_validate.sample(n=50)\n",
    "\n",
    "\n",
    "plt.figure(figsize=(16,8))\n",
    "plt.plot(y_validate_sample.taxvalue, y_validate_sample.taxvalue_pred_mean, alpha=.5, color=\"gray\", label='_nolegend_')\n",
    "plt.annotate(\"Baseline: Predict Using Mean\", (16, 9.5))\n",
    "plt.plot(y_validate_sample.taxvalue, y_validate_sample.taxvalue, alpha=.5, color=\"blue\", label='_nolegend_')\n",
    "plt.annotate(\"The Ideal Line: Predicted = Actual\", (.5, 3.5), rotation=15.5)\n",
    "\n",
    "plt.scatter(y_validate_sample.taxvalue, y_validate_sample.taxvalue_pred_lm, \n",
    "            alpha=.5, color=\"red\", s=100, label=\"Model: LinearRegression\")\n",
    "plt.scatter(y_validate_sample.taxvalue, y_validate_sample.taxvalue_pred_glm, \n",
    "            alpha=.5, color=\"yellow\", s=100, label=\"Model: TweedieRegressor\")\n",
    "plt.scatter(y_validate_sample.taxvalue, y_validate_sample.taxvalue_pred_lm2, \n",
    "            alpha=.5, color=\"green\", s=100, label=\"Model 2nd degree Polynomial\")\n",
    "plt.legend()\n",
    "plt.xlabel(\"Actual Final Grade\")\n",
    "plt.ylabel(\"Predicted Final Grade\")\n",
    "plt.title(\"Where are predictions more extreme? More modest?\")\n",
    "# plt.annotate(\"The polynomial model appears to overreact to noise\", (2.0, -10))\n",
    "# plt.annotate(\"The OLS model (LinearRegression)\\n appears to be most consistent\", (15.5, 3))\n",
    "plt.show()\n"
   ]
  },
  {
   "cell_type": "code",
   "execution_count": 116,
   "id": "352dae1b-097d-49b6-9a5e-d0b5b3627be6",
   "metadata": {
    "tags": []
   },
   "outputs": [
    {
     "data": {
      "text/html": [
       "<div>\n",
       "<style scoped>\n",
       "    .dataframe tbody tr th:only-of-type {\n",
       "        vertical-align: middle;\n",
       "    }\n",
       "\n",
       "    .dataframe tbody tr th {\n",
       "        vertical-align: top;\n",
       "    }\n",
       "\n",
       "    .dataframe thead th {\n",
       "        text-align: right;\n",
       "    }\n",
       "</style>\n",
       "<table border=\"1\" class=\"dataframe\">\n",
       "  <thead>\n",
       "    <tr style=\"text-align: right;\">\n",
       "      <th></th>\n",
       "      <th>taxvalue</th>\n",
       "      <th>taxvalue_pred_mean</th>\n",
       "      <th>taxvalue_pred_median</th>\n",
       "      <th>taxvalue_pred_lm</th>\n",
       "      <th>taxvalue_pred_lars</th>\n",
       "      <th>taxvalue_pred_glm</th>\n",
       "      <th>taxvalue_pred_lm2</th>\n",
       "      <th>taxvalue_pred_lm3</th>\n",
       "      <th>taxvalue_pred_lm4</th>\n",
       "      <th>taxvalue_pred_lm10</th>\n",
       "    </tr>\n",
       "  </thead>\n",
       "  <tbody>\n",
       "    <tr>\n",
       "      <th>43129</th>\n",
       "      <td>310029.0</td>\n",
       "      <td>343838.291022</td>\n",
       "      <td>332869.0</td>\n",
       "      <td>419395.680664</td>\n",
       "      <td>418291.174594</td>\n",
       "      <td>343838.291022</td>\n",
       "      <td>407419.792489</td>\n",
       "      <td>404300.304850</td>\n",
       "      <td>400005.277425</td>\n",
       "      <td>432741.478516</td>\n",
       "    </tr>\n",
       "    <tr>\n",
       "      <th>47462</th>\n",
       "      <td>654241.0</td>\n",
       "      <td>343838.291022</td>\n",
       "      <td>332869.0</td>\n",
       "      <td>320832.090494</td>\n",
       "      <td>321008.391939</td>\n",
       "      <td>343838.291022</td>\n",
       "      <td>330188.050151</td>\n",
       "      <td>326269.575578</td>\n",
       "      <td>320699.685142</td>\n",
       "      <td>312380.041016</td>\n",
       "    </tr>\n",
       "    <tr>\n",
       "      <th>32794</th>\n",
       "      <td>154108.0</td>\n",
       "      <td>343838.291022</td>\n",
       "      <td>332869.0</td>\n",
       "      <td>285580.292382</td>\n",
       "      <td>285652.585772</td>\n",
       "      <td>343838.291022</td>\n",
       "      <td>276299.849908</td>\n",
       "      <td>268925.480431</td>\n",
       "      <td>263638.504853</td>\n",
       "      <td>265140.308594</td>\n",
       "    </tr>\n",
       "    <tr>\n",
       "      <th>51079</th>\n",
       "      <td>247358.0</td>\n",
       "      <td>343838.291022</td>\n",
       "      <td>332869.0</td>\n",
       "      <td>396725.529026</td>\n",
       "      <td>396295.207454</td>\n",
       "      <td>343838.291022</td>\n",
       "      <td>403987.965227</td>\n",
       "      <td>410049.432708</td>\n",
       "      <td>395114.745353</td>\n",
       "      <td>398608.916016</td>\n",
       "    </tr>\n",
       "    <tr>\n",
       "      <th>40814</th>\n",
       "      <td>329955.0</td>\n",
       "      <td>343838.291022</td>\n",
       "      <td>332869.0</td>\n",
       "      <td>298452.058303</td>\n",
       "      <td>298411.154792</td>\n",
       "      <td>343838.291022</td>\n",
       "      <td>297348.276464</td>\n",
       "      <td>294152.984472</td>\n",
       "      <td>288157.860304</td>\n",
       "      <td>290585.451172</td>\n",
       "    </tr>\n",
       "  </tbody>\n",
       "</table>\n",
       "</div>"
      ],
      "text/plain": [
       "       taxvalue  taxvalue_pred_mean  taxvalue_pred_median  taxvalue_pred_lm  \\\n",
       "43129  310029.0       343838.291022              332869.0     419395.680664   \n",
       "47462  654241.0       343838.291022              332869.0     320832.090494   \n",
       "32794  154108.0       343838.291022              332869.0     285580.292382   \n",
       "51079  247358.0       343838.291022              332869.0     396725.529026   \n",
       "40814  329955.0       343838.291022              332869.0     298452.058303   \n",
       "\n",
       "       taxvalue_pred_lars  taxvalue_pred_glm  taxvalue_pred_lm2  \\\n",
       "43129       418291.174594      343838.291022      407419.792489   \n",
       "47462       321008.391939      343838.291022      330188.050151   \n",
       "32794       285652.585772      343838.291022      276299.849908   \n",
       "51079       396295.207454      343838.291022      403987.965227   \n",
       "40814       298411.154792      343838.291022      297348.276464   \n",
       "\n",
       "       taxvalue_pred_lm3  taxvalue_pred_lm4  taxvalue_pred_lm10  \n",
       "43129      404300.304850      400005.277425       432741.478516  \n",
       "47462      326269.575578      320699.685142       312380.041016  \n",
       "32794      268925.480431      263638.504853       265140.308594  \n",
       "51079      410049.432708      395114.745353       398608.916016  \n",
       "40814      294152.984472      288157.860304       290585.451172  "
      ]
     },
     "execution_count": 116,
     "metadata": {},
     "output_type": "execute_result"
    }
   ],
   "source": []
  },
  {
   "cell_type": "code",
   "execution_count": 113,
   "id": "e9f2b501-5cae-4c1f-8670-64cc86fa6eea",
   "metadata": {},
   "outputs": [],
   "source": [
    "\n",
    "scaler = StandardScaler()\n",
    "X_train_scaled = scaler.fit_transform(X_train)\n",
    "X_validate_scaled = scaler.transform(X_validate)"
   ]
  },
  {
   "cell_type": "code",
   "execution_count": 117,
   "id": "a164111a-c393-4572-8df2-1f94288104c3",
   "metadata": {},
   "outputs": [
    {
     "data": {
      "text/plain": [
       "Index(['area'], dtype='object')"
      ]
     },
     "execution_count": 117,
     "metadata": {},
     "output_type": "execute_result"
    }
   ],
   "source": [
    "kbest = SelectKBest(f_regression, k=1)\n",
    "kbest.fit(X_train_scaled, y_train.taxvalue)\n",
    "\n",
    "X_train.columns[kbest.get_support()]"
   ]
  },
  {
   "cell_type": "code",
   "execution_count": 118,
   "id": "87156f4c-c33b-4b5e-bf4d-008bf5661ecf",
   "metadata": {},
   "outputs": [
    {
     "data": {
      "text/plain": [
       "56.669752       bed\n",
       "667.402604     bath\n",
       "1110.378706    area\n",
       "dtype: object"
      ]
     },
     "execution_count": 118,
     "metadata": {},
     "output_type": "execute_result"
    }
   ],
   "source": [
    "pd.Series(X_train.columns, index=kbest.scores_).sort_index(0)"
   ]
  },
  {
   "cell_type": "code",
   "execution_count": 121,
   "id": "0fdc1060-5012-4447-9ad1-69af3bcef707",
   "metadata": {},
   "outputs": [
    {
     "data": {
      "text/html": [
       "<div>\n",
       "<style scoped>\n",
       "    .dataframe tbody tr th:only-of-type {\n",
       "        vertical-align: middle;\n",
       "    }\n",
       "\n",
       "    .dataframe tbody tr th {\n",
       "        vertical-align: top;\n",
       "    }\n",
       "\n",
       "    .dataframe thead th {\n",
       "        text-align: right;\n",
       "    }\n",
       "</style>\n",
       "<table border=\"1\" class=\"dataframe\">\n",
       "  <thead>\n",
       "    <tr style=\"text-align: right;\">\n",
       "      <th></th>\n",
       "      <th>yearbuilt</th>\n",
       "      <th>taxamount</th>\n",
       "      <th>fips</th>\n",
       "      <th>area</th>\n",
       "      <th>bed</th>\n",
       "      <th>bath</th>\n",
       "      <th>taxvalue</th>\n",
       "      <th>tdate_month</th>\n",
       "      <th>tdate_day</th>\n",
       "      <th>tdate_week</th>\n",
       "      <th>county</th>\n",
       "      <th>taxrate</th>\n",
       "    </tr>\n",
       "  </thead>\n",
       "  <tbody>\n",
       "    <tr>\n",
       "      <th>578</th>\n",
       "      <td>1974.0</td>\n",
       "      <td>3490.16</td>\n",
       "      <td>6059.0</td>\n",
       "      <td>1125.0</td>\n",
       "      <td>3.0</td>\n",
       "      <td>2.0</td>\n",
       "      <td>289445.0</td>\n",
       "      <td>8</td>\n",
       "      <td>4</td>\n",
       "      <td>31</td>\n",
       "      <td>Orange</td>\n",
       "      <td>0.012058</td>\n",
       "    </tr>\n",
       "    <tr>\n",
       "      <th>950</th>\n",
       "      <td>1923.0</td>\n",
       "      <td>2627.48</td>\n",
       "      <td>6037.0</td>\n",
       "      <td>1316.0</td>\n",
       "      <td>3.0</td>\n",
       "      <td>2.0</td>\n",
       "      <td>205123.0</td>\n",
       "      <td>7</td>\n",
       "      <td>21</td>\n",
       "      <td>29</td>\n",
       "      <td>Los Angeles</td>\n",
       "      <td>0.012809</td>\n",
       "    </tr>\n",
       "    <tr>\n",
       "      <th>1163</th>\n",
       "      <td>1970.0</td>\n",
       "      <td>2319.90</td>\n",
       "      <td>6037.0</td>\n",
       "      <td>1458.0</td>\n",
       "      <td>3.0</td>\n",
       "      <td>2.0</td>\n",
       "      <td>136104.0</td>\n",
       "      <td>6</td>\n",
       "      <td>23</td>\n",
       "      <td>25</td>\n",
       "      <td>Los Angeles</td>\n",
       "      <td>0.017045</td>\n",
       "    </tr>\n",
       "    <tr>\n",
       "      <th>2494</th>\n",
       "      <td>1955.0</td>\n",
       "      <td>1399.27</td>\n",
       "      <td>6037.0</td>\n",
       "      <td>1491.0</td>\n",
       "      <td>3.0</td>\n",
       "      <td>2.0</td>\n",
       "      <td>107110.0</td>\n",
       "      <td>8</td>\n",
       "      <td>23</td>\n",
       "      <td>34</td>\n",
       "      <td>Los Angeles</td>\n",
       "      <td>0.013064</td>\n",
       "    </tr>\n",
       "    <tr>\n",
       "      <th>3051</th>\n",
       "      <td>1949.0</td>\n",
       "      <td>7673.19</td>\n",
       "      <td>6037.0</td>\n",
       "      <td>1650.0</td>\n",
       "      <td>3.0</td>\n",
       "      <td>2.0</td>\n",
       "      <td>614000.0</td>\n",
       "      <td>6</td>\n",
       "      <td>1</td>\n",
       "      <td>22</td>\n",
       "      <td>Los Angeles</td>\n",
       "      <td>0.012497</td>\n",
       "    </tr>\n",
       "  </tbody>\n",
       "</table>\n",
       "</div>"
      ],
      "text/plain": [
       "      yearbuilt  taxamount    fips    area  bed  bath  taxvalue  tdate_month  \\\n",
       "578      1974.0    3490.16  6059.0  1125.0  3.0   2.0  289445.0            8   \n",
       "950      1923.0    2627.48  6037.0  1316.0  3.0   2.0  205123.0            7   \n",
       "1163     1970.0    2319.90  6037.0  1458.0  3.0   2.0  136104.0            6   \n",
       "2494     1955.0    1399.27  6037.0  1491.0  3.0   2.0  107110.0            8   \n",
       "3051     1949.0    7673.19  6037.0  1650.0  3.0   2.0  614000.0            6   \n",
       "\n",
       "      tdate_day  tdate_week       county   taxrate  \n",
       "578           4          31       Orange  0.012058  \n",
       "950          21          29  Los Angeles  0.012809  \n",
       "1163         23          25  Los Angeles  0.017045  \n",
       "2494         23          34  Los Angeles  0.013064  \n",
       "3051          1          22  Los Angeles  0.012497  "
      ]
     },
     "execution_count": 121,
     "metadata": {},
     "output_type": "execute_result"
    }
   ],
   "source": [
    "df.head()"
   ]
  },
  {
   "cell_type": "code",
   "execution_count": 127,
   "id": "4688a3e0-1978-4b84-8169-e6a631efe3b3",
   "metadata": {},
   "outputs": [
    {
     "data": {
      "text/plain": [
       "array([False, False, False,  True,  True, False,  True])"
      ]
     },
     "execution_count": 127,
     "metadata": {},
     "output_type": "execute_result"
    }
   ],
   "source": [
    "\n",
    "rfe = RFE(estimator=LinearRegression(), n_features_to_select=3)\n",
    "rfe.fit(df[['fips', 'area', 'bed', 'bath', 'tdate_month', 'tdate_day', 'tdate_week']], df.taxvalue)\n",
    "rfe.get_support()"
   ]
  },
  {
   "cell_type": "code",
   "execution_count": 136,
   "id": "bddd15aa-7ed5-4bd7-8962-06a63a111750",
   "metadata": {},
   "outputs": [],
   "source": [
    "col_list = ['fips', 'area', 'bed', 'bath', 'tdate_month', 'tdate_day', 'tdate_week']"
   ]
  },
  {
   "cell_type": "code",
   "execution_count": 139,
   "id": "ec1b83e2-5002-4b26-a957-7bdad0c8498c",
   "metadata": {},
   "outputs": [
    {
     "data": {
      "text/plain": [
       "Index(['bath', 'tdate_month', 'tdate_week'], dtype='object')"
      ]
     },
     "execution_count": 139,
     "metadata": {},
     "output_type": "execute_result"
    }
   ],
   "source": [
    "df[col_list].columns[rfe.get_support()]"
   ]
  },
  {
   "cell_type": "code",
   "execution_count": 140,
   "id": "041d3cf8-95eb-4334-8e40-b90eda8da8c6",
   "metadata": {},
   "outputs": [
    {
     "data": {
      "text/plain": [
       "1           bath\n",
       "1    tdate_month\n",
       "1     tdate_week\n",
       "2      tdate_day\n",
       "3            bed\n",
       "4           fips\n",
       "5           area\n",
       "dtype: object"
      ]
     },
     "execution_count": 140,
     "metadata": {},
     "output_type": "execute_result"
    }
   ],
   "source": [
    "pd.Series(df[col_list].columns, index=rfe.ranking_).sort_index(0)"
   ]
  },
  {
   "cell_type": "code",
   "execution_count": null,
   "id": "eeef859a-ddca-4cca-870f-33a3182a98ee",
   "metadata": {},
   "outputs": [],
   "source": []
  }
 ],
 "metadata": {
  "kernelspec": {
   "display_name": "Python 3",
   "language": "python",
   "name": "python3"
  },
  "language_info": {
   "codemirror_mode": {
    "name": "ipython",
    "version": 3
   },
   "file_extension": ".py",
   "mimetype": "text/x-python",
   "name": "python",
   "nbconvert_exporter": "python",
   "pygments_lexer": "ipython3",
   "version": "3.8.8"
  }
 },
 "nbformat": 4,
 "nbformat_minor": 5
}
